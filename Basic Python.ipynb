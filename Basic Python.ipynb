{
 "cells": [
  {
   "cell_type": "markdown",
   "id": "0c77018e",
   "metadata": {},
   "source": [
    "# Chapter 1- Hello World"
   ]
  },
  {
   "cell_type": "markdown",
   "id": "9ffe4d1b",
   "metadata": {},
   "source": [
    "## 1[a] Hello world"
   ]
  },
  {
   "cell_type": "code",
   "execution_count": 2,
   "id": "0c3754e0",
   "metadata": {},
   "outputs": [
    {
     "name": "stdout",
     "output_type": "stream",
     "text": [
      "Welcome\n"
     ]
    }
   ],
   "source": [
    "print(\"Welcome\")"
   ]
  },
  {
   "cell_type": "markdown",
   "id": "c95cc795",
   "metadata": {},
   "source": []
  },
  {
   "cell_type": "markdown",
   "id": "9e235666",
   "metadata": {},
   "source": [
    "## 1[b] Create a Variable"
   ]
  },
  {
   "cell_type": "code",
   "execution_count": 3,
   "id": "6545b1ff",
   "metadata": {},
   "outputs": [],
   "source": [
    "numbers = [\"Allu\", \"Arjun\",123,1234]"
   ]
  },
  {
   "cell_type": "code",
   "execution_count": 4,
   "id": "d854cf5d",
   "metadata": {
    "scrolled": true
   },
   "outputs": [
    {
     "name": "stdout",
     "output_type": "stream",
     "text": [
      "['Allu', 'Arjun', 123, 1234]\n"
     ]
    }
   ],
   "source": [
    "print(numbers)"
   ]
  },
  {
   "cell_type": "markdown",
   "id": "244263af",
   "metadata": {},
   "source": [
    "### types of variables\n",
    "    1. int    - Does not has decimal value Ex: 12, 2578\n",
    "    2. float  - It has decimal value Ex: 12.00, 85.68\n",
    "    3. string - Anything which is enclosed within quotes Ex: \"Name\" \"123\" \"12.34\""
   ]
  },
  {
   "cell_type": "markdown",
   "id": "68c13a05",
   "metadata": {},
   "source": [
    "# Chapter 2 Stings and sting method"
   ]
  },
  {
   "cell_type": "markdown",
   "id": "80d6f50c",
   "metadata": {},
   "source": [
    "# 2[a] What is string?"
   ]
  },
  {
   "cell_type": "code",
   "execution_count": 5,
   "id": "199da5b8",
   "metadata": {},
   "outputs": [],
   "source": [
    "#anything which is enclosed within quotes."
   ]
  },
  {
   "cell_type": "code",
   "execution_count": 6,
   "id": "abee112b",
   "metadata": {},
   "outputs": [
    {
     "data": {
      "text/plain": [
       "'Swapnil'"
      ]
     },
     "execution_count": 6,
     "metadata": {},
     "output_type": "execute_result"
    }
   ],
   "source": [
    "learner_names = \"Swapnil\"\n",
    "learner_names"
   ]
  },
  {
   "cell_type": "code",
   "execution_count": 7,
   "id": "9b98cc01",
   "metadata": {},
   "outputs": [
    {
     "data": {
      "text/plain": [
       "str"
      ]
     },
     "execution_count": 7,
     "metadata": {},
     "output_type": "execute_result"
    }
   ],
   "source": [
    "type(learner_names)"
   ]
  },
  {
   "cell_type": "code",
   "execution_count": 8,
   "id": "4a165ecd",
   "metadata": {},
   "outputs": [
    {
     "data": {
      "text/plain": [
       "7"
      ]
     },
     "execution_count": 8,
     "metadata": {},
     "output_type": "execute_result"
    }
   ],
   "source": [
    "len(learner_names)"
   ]
  },
  {
   "cell_type": "code",
   "execution_count": 9,
   "id": "c3cae776",
   "metadata": {},
   "outputs": [
    {
     "name": "stdout",
     "output_type": "stream",
     "text": [
      "345\n",
      "<class 'int'>\n"
     ]
    }
   ],
   "source": [
    "target_score = 345\n",
    "print(target_score)\n",
    "print(type(target_score))"
   ]
  },
  {
   "cell_type": "code",
   "execution_count": 10,
   "id": "a88e047c",
   "metadata": {},
   "outputs": [
    {
     "data": {
      "text/plain": [
       "float"
      ]
     },
     "execution_count": 10,
     "metadata": {},
     "output_type": "execute_result"
    }
   ],
   "source": [
    "batting_average = 139.5\n",
    "type(batting_average)"
   ]
  },
  {
   "cell_type": "markdown",
   "id": "b83c928c",
   "metadata": {},
   "source": [
    "# "
   ]
  },
  {
   "cell_type": "markdown",
   "id": "674da393",
   "metadata": {},
   "source": [
    "## 2[b] Concatination - Indexing and slicing"
   ]
  },
  {
   "cell_type": "markdown",
   "id": "ef66c370",
   "metadata": {},
   "source": [
    "### To merge two or more strings in single object is said to be concatination ( + operator is used )"
   ]
  },
  {
   "cell_type": "code",
   "execution_count": 11,
   "id": "ede07733",
   "metadata": {},
   "outputs": [
    {
     "name": "stdout",
     "output_type": "stream",
     "text": [
      "Aswathy palathingalis my new learner DS_11am_batch.\n"
     ]
    }
   ],
   "source": [
    "fname = \"Aswathy\"\n",
    "lname = \"palathingal\"\n",
    "batch = \"DS_11am_batch\"\n",
    "print(fname + \" \" + lname + \"is my new learner\" + \" \" + batch + \".\")"
   ]
  },
  {
   "cell_type": "markdown",
   "id": "fe81ef40",
   "metadata": {},
   "source": []
  },
  {
   "cell_type": "code",
   "execution_count": 12,
   "id": "20b4988c",
   "metadata": {},
   "outputs": [
    {
     "data": {
      "text/plain": [
       "14"
      ]
     },
     "execution_count": 12,
     "metadata": {},
     "output_type": "execute_result"
    }
   ],
   "source": [
    "name = \"naresh Chandra\"\n",
    "len(name)"
   ]
  },
  {
   "cell_type": "code",
   "execution_count": 14,
   "id": "223d5871",
   "metadata": {},
   "outputs": [
    {
     "data": {
      "text/plain": [
       "'Chandra'"
      ]
     },
     "execution_count": 14,
     "metadata": {},
     "output_type": "execute_result"
    }
   ],
   "source": [
    "#index number  in python always starts from 0\n",
    "name[7:14]"
   ]
  },
  {
   "cell_type": "markdown",
   "id": "29abd7a2",
   "metadata": {},
   "source": [
    "## 2[c] Manipulating strings and methods"
   ]
  },
  {
   "cell_type": "markdown",
   "id": "569a6ec8",
   "metadata": {},
   "source": [
    "### Methods/Function - Both are same, Methods are something which ends with ( )\n"
   ]
  },
  {
   "cell_type": "code",
   "execution_count": 23,
   "id": "f12e4ca2",
   "metadata": {},
   "outputs": [],
   "source": [
    "name = \"swapnilß\"\n",
    "sname = \"jagdale\""
   ]
  },
  {
   "cell_type": "markdown",
   "id": "b5fcb732",
   "metadata": {},
   "source": [
    "#### Upper() Uppercases all characters"
   ]
  },
  {
   "cell_type": "code",
   "execution_count": 24,
   "id": "42ab66a2",
   "metadata": {},
   "outputs": [
    {
     "data": {
      "text/plain": [
       "'JAGDALE'"
      ]
     },
     "execution_count": 24,
     "metadata": {},
     "output_type": "execute_result"
    }
   ],
   "source": [
    "str.upper(sname)"
   ]
  },
  {
   "cell_type": "markdown",
   "id": "ddea81eb",
   "metadata": {},
   "source": [
    "##### Capitalize() method converts first character of a string to uppercase letter and lowercases all other characters"
   ]
  },
  {
   "cell_type": "code",
   "execution_count": 13,
   "id": "b7dd693c",
   "metadata": {},
   "outputs": [
    {
     "data": {
      "text/plain": [
       "'Swapnilß'"
      ]
     },
     "execution_count": 13,
     "metadata": {},
     "output_type": "execute_result"
    }
   ],
   "source": [
    "str.capitalize(name)"
   ]
  },
  {
   "cell_type": "markdown",
   "id": "683b817c",
   "metadata": {},
   "source": [
    "#### casefold() method returns a string where all the characters are lower case and removes all cases ex. ß"
   ]
  },
  {
   "cell_type": "code",
   "execution_count": 14,
   "id": "99ebf4a5",
   "metadata": {},
   "outputs": [
    {
     "data": {
      "text/plain": [
       "'swapnilss'"
      ]
     },
     "execution_count": 14,
     "metadata": {},
     "output_type": "execute_result"
    }
   ],
   "source": [
    "str.casefold(name)"
   ]
  },
  {
   "cell_type": "code",
   "execution_count": null,
   "id": "c5a94406",
   "metadata": {},
   "outputs": [],
   "source": []
  },
  {
   "cell_type": "code",
   "execution_count": 88,
   "id": "dfec8475",
   "metadata": {},
   "outputs": [],
   "source": [
    "name = \"swapnil\""
   ]
  },
  {
   "cell_type": "code",
   "execution_count": 89,
   "id": "38e72339",
   "metadata": {},
   "outputs": [
    {
     "data": {
      "text/plain": [
       "'swapnil'"
      ]
     },
     "execution_count": 89,
     "metadata": {},
     "output_type": "execute_result"
    }
   ],
   "source": [
    "str.lower(name)"
   ]
  },
  {
   "cell_type": "code",
   "execution_count": 15,
   "id": "76b06da5",
   "metadata": {},
   "outputs": [
    {
     "name": "stdout",
     "output_type": "stream",
     "text": [
      "name: \n",
      "here is first letter  \n"
     ]
    }
   ],
   "source": [
    "name = input(\"name: \")\n",
    "print(\"here is first letter \",name[0:1])\n",
    "\n"
   ]
  },
  {
   "cell_type": "code",
   "execution_count": null,
   "id": "334fdb64",
   "metadata": {},
   "outputs": [],
   "source": []
  },
  {
   "cell_type": "markdown",
   "id": "023c0f48",
   "metadata": {},
   "source": [
    "## 2[d] Interact with user input"
   ]
  },
  {
   "cell_type": "code",
   "execution_count": 3,
   "id": "39229b71",
   "metadata": {},
   "outputs": [
    {
     "name": "stdout",
     "output_type": "stream",
     "text": [
      "username: swapnil\n"
     ]
    },
    {
     "data": {
      "text/plain": [
       "7"
      ]
     },
     "execution_count": 3,
     "metadata": {},
     "output_type": "execute_result"
    }
   ],
   "source": [
    "name = input(\"username: \")\n",
    "len(name)"
   ]
  },
  {
   "cell_type": "code",
   "execution_count": 19,
   "id": "b07dcb2f",
   "metadata": {},
   "outputs": [
    {
     "name": "stdout",
     "output_type": "stream",
     "text": [
      "enter your name: swapnil\n",
      "swapnil\n",
      "swapnil\n",
      "SWAPNIL\n",
      "output is swapnil , swapnil, SWAPNIL\n"
     ]
    }
   ],
   "source": [
    "#get name from user and make all the aplhabets in lower letter\n",
    "name = input(\"enter your name: \")\n",
    "print(name.lower())\n",
    "print(name.casefold())\n",
    "print(name.upper())\n",
    "print(\"output is {} , {}, {}\".format(name.lower(),name.casefold(),name.upper()))"
   ]
  },
  {
   "cell_type": "markdown",
   "id": "37be4bfc",
   "metadata": {},
   "source": [
    "## 2[e] Get and print the first letter of the username"
   ]
  },
  {
   "cell_type": "code",
   "execution_count": 10,
   "id": "973618c3",
   "metadata": {},
   "outputs": [
    {
     "name": "stdout",
     "output_type": "stream",
     "text": [
      "enter the username: swapnil\n",
      "first letter of username  s\n"
     ]
    }
   ],
   "source": [
    "username = input(\"enter the username: \")\n",
    "#username[0]\n",
    "print(\"first letter of username \",username[0])"
   ]
  },
  {
   "cell_type": "markdown",
   "id": "f7e93ccd",
   "metadata": {},
   "source": [
    "## 2[f] Working with strings and numbers"
   ]
  },
  {
   "cell_type": "markdown",
   "id": "7a03da03",
   "metadata": {},
   "source": [
    "* input is a keyword used for getting input from user (bydefault input is taken as string)"
   ]
  },
  {
   "cell_type": "code",
   "execution_count": 15,
   "id": "860fbd79",
   "metadata": {},
   "outputs": [
    {
     "name": "stdout",
     "output_type": "stream",
     "text": [
      "enter first no.: 34\n",
      "enter second no.: 234\n",
      "the product of 34 and 234 is 7956.0.\n"
     ]
    }
   ],
   "source": [
    "#product of 2number, user preference\n",
    "n1 = input(\"enter first no.: \")\n",
    "n2 = input(\"enter second no.: \")\n",
    "product = float(n1)*float(n2)\n",
    "print(\"the product of \"+n1+ \" and \"+n2+ \" is \"+str(product)+\".\")"
   ]
  },
  {
   "cell_type": "code",
   "execution_count": 13,
   "id": "c795b8b2",
   "metadata": {},
   "outputs": [
    {
     "data": {
      "text/plain": [
       "float"
      ]
     },
     "execution_count": 13,
     "metadata": {},
     "output_type": "execute_result"
    }
   ],
   "source": [
    "type(product)"
   ]
  },
  {
   "cell_type": "markdown",
   "id": "397a163d",
   "metadata": {},
   "source": [
    "* to get input in .int or float"
   ]
  },
  {
   "cell_type": "code",
   "execution_count": 10,
   "id": "1c347daa",
   "metadata": {},
   "outputs": [
    {
     "name": "stdout",
     "output_type": "stream",
     "text": [
      "Enter first number: 5\n",
      "Enter second number: 2\n",
      "Product of given numbers:  10.0\n"
     ]
    }
   ],
   "source": [
    "n1 = float(input(\"Enter first number: \"))\n",
    "n2 = float(input(\"Enter second number: \"))\n",
    "product = n1*n2\n",
    "print(\"Product of given numbers: \",product)"
   ]
  },
  {
   "cell_type": "markdown",
   "id": "f9941db0",
   "metadata": {},
   "source": [
    "## 2[g] Streaming your print statements"
   ]
  },
  {
   "cell_type": "markdown",
   "id": "c7c6ef84",
   "metadata": {},
   "source": [
    "* .format is used to add multiple variables in a single line with help of '{}'"
   ]
  },
  {
   "cell_type": "code",
   "execution_count": 3,
   "id": "c3e8e5f7",
   "metadata": {},
   "outputs": [
    {
     "name": "stdout",
     "output_type": "stream",
     "text": [
      "Swapnil is from my data science 11 am batch. \n"
     ]
    }
   ],
   "source": [
    "name = \"Swapnil\"  #str\n",
    "batch = 11 #int\n",
    "print(\"{} is from my data science {} am batch. \".format(name,batch))"
   ]
  },
  {
   "cell_type": "code",
   "execution_count": 18,
   "id": "ce9e9799",
   "metadata": {},
   "outputs": [
    {
     "name": "stdout",
     "output_type": "stream",
     "text": [
      "swapnil is a datascience student from 11am\n"
     ]
    }
   ],
   "source": [
    "name = \"swapnil\"\n",
    "batch = \"datascience\"\n",
    "timing = \"11am\"\n",
    "print(\"{} is a {} student from {} \".format(name,batch,timing))\n"
   ]
  },
  {
   "cell_type": "code",
   "execution_count": 2,
   "id": "1ccb52c9",
   "metadata": {},
   "outputs": [],
   "source": [
    "def diff_data(number,item,cost):\n",
    "    return \"There are {} {} cost {}.\".format(number,item,cost)\n"
   ]
  },
  {
   "cell_type": "code",
   "execution_count": 4,
   "id": "72360f3a",
   "metadata": {},
   "outputs": [
    {
     "data": {
      "text/plain": [
       "'there are 3 chicken cost 200.9.'"
      ]
     },
     "execution_count": 4,
     "metadata": {},
     "output_type": "execute_result"
    }
   ],
   "source": [
    "diff_data(3,\"chicken\" ,200.90)"
   ]
  },
  {
   "cell_type": "code",
   "execution_count": 2,
   "id": "3619812c",
   "metadata": {
    "scrolled": true
   },
   "outputs": [
    {
     "name": "stdout",
     "output_type": "stream",
     "text": [
      "Name: swa\n",
      "Batch Time: 2\n",
      " swa is from my DataScience 2 am batch. \n"
     ]
    }
   ],
   "source": [
    "name = input('Name: ')\n",
    "batch = input('Batch Time: ')\n",
    "print(\" {} is from my DataScience {} am batch. \".format(name,batch))\n"
   ]
  },
  {
   "cell_type": "code",
   "execution_count": null,
   "id": "512aed36",
   "metadata": {},
   "outputs": [],
   "source": []
  },
  {
   "cell_type": "markdown",
   "id": "3b25d50e",
   "metadata": {},
   "source": [
    "* input is a keyword used for getting input from user (bydefault input is taken as string)"
   ]
  },
  {
   "cell_type": "code",
   "execution_count": 4,
   "id": "64a3da8d",
   "metadata": {},
   "outputs": [
    {
     "name": "stdout",
     "output_type": "stream",
     "text": [
      "Name: swapnil\n",
      "Batch time: 11\n",
      "swapnil is from Datascience 11 am batch.\n"
     ]
    }
   ],
   "source": [
    "name = input(\"Name: \")\n",
    "batch = input(\"Batch time: \")\n",
    "print('{} is from Datascience {} am batch.'.format(name,batch))"
   ]
  },
  {
   "cell_type": "markdown",
   "id": "a62786c8",
   "metadata": {},
   "source": [
    "## 2[h] Find a string in a string"
   ]
  },
  {
   "cell_type": "markdown",
   "id": "6e02a139",
   "metadata": {},
   "source": [
    "* Used for find and replacing {find and replace are keywors}"
   ]
  },
  {
   "cell_type": "code",
   "execution_count": 17,
   "id": "405eff80",
   "metadata": {},
   "outputs": [],
   "source": [
    "comment = \"Jupyter notebook is a good learning platform.\""
   ]
  },
  {
   "cell_type": "code",
   "execution_count": 19,
   "id": "48bf04fb",
   "metadata": {},
   "outputs": [
    {
     "data": {
      "text/plain": [
       "22"
      ]
     },
     "execution_count": 19,
     "metadata": {},
     "output_type": "execute_result"
    }
   ],
   "source": [
    "comment.find(\"good\")"
   ]
  },
  {
   "cell_type": "code",
   "execution_count": 20,
   "id": "6aab6680",
   "metadata": {},
   "outputs": [
    {
     "data": {
      "text/plain": [
       "'Jupyter notebook is a __ learning platform.'"
      ]
     },
     "execution_count": 20,
     "metadata": {},
     "output_type": "execute_result"
    }
   ],
   "source": [
    "comment.replace(\"good\",\"__\")"
   ]
  },
  {
   "cell_type": "code",
   "execution_count": 22,
   "id": "9e913add",
   "metadata": {},
   "outputs": [
    {
     "data": {
      "text/plain": [
       "'You have won a $1000 lottery.'"
      ]
     },
     "execution_count": 22,
     "metadata": {},
     "output_type": "execute_result"
    }
   ],
   "source": [
    "mail = \"You have won a $1000 lottery.\"\n",
    "mail"
   ]
  },
  {
   "cell_type": "code",
   "execution_count": 23,
   "id": "52fd5935",
   "metadata": {},
   "outputs": [
    {
     "data": {
      "text/plain": [
       "'You have won a  lottery.'"
      ]
     },
     "execution_count": 23,
     "metadata": {},
     "output_type": "execute_result"
    }
   ],
   "source": [
    "mail.replace(\"$1000\",\"\")"
   ]
  },
  {
   "cell_type": "markdown",
   "id": "cc9352aa",
   "metadata": {},
   "source": [
    "# Chapter 3 - Numbers in Python"
   ]
  },
  {
   "cell_type": "markdown",
   "id": "9f1f3655",
   "metadata": {},
   "source": [
    "## 3[a] Integers and floating point numbers"
   ]
  },
  {
   "cell_type": "code",
   "execution_count": 36,
   "id": "1c37df15",
   "metadata": {},
   "outputs": [],
   "source": [
    "team_goal = 4\n",
    "avg_marks = -7.89"
   ]
  },
  {
   "cell_type": "code",
   "execution_count": 37,
   "id": "2925c9ab",
   "metadata": {},
   "outputs": [
    {
     "data": {
      "text/plain": [
       "int"
      ]
     },
     "execution_count": 37,
     "metadata": {},
     "output_type": "execute_result"
    }
   ],
   "source": [
    "type(team_goal)"
   ]
  },
  {
   "cell_type": "code",
   "execution_count": 38,
   "id": "3b10f5b9",
   "metadata": {},
   "outputs": [
    {
     "data": {
      "text/plain": [
       "float"
      ]
     },
     "execution_count": 38,
     "metadata": {},
     "output_type": "execute_result"
    }
   ],
   "source": [
    "type(avg_marks)"
   ]
  },
  {
   "cell_type": "code",
   "execution_count": 40,
   "id": "b28748c5",
   "metadata": {},
   "outputs": [
    {
     "name": "stdout",
     "output_type": "stream",
     "text": [
      "7.89\n"
     ]
    }
   ],
   "source": [
    "print(abs(avg_marks))   #abs : Absolute value is nothing but its take negative value as positive."
   ]
  },
  {
   "cell_type": "markdown",
   "id": "05b668fb",
   "metadata": {},
   "source": [
    "# Chapter 4 - Functions and loops"
   ]
  },
  {
   "cell_type": "markdown",
   "id": "15e4410b",
   "metadata": {},
   "source": [
    "## 3 types of functions:\n",
    "    * Predefined functions  : Is something which gets installed while you install python or jupyter notebook\n",
    "    * Userdefined functions : Is a sequence of methods which repeated sequencially i.e step-by-step, one after another.\n",
    "    * Anonymous functions   : Means that a function is without a name. As we already know that the def keyword is used to                                  define a normal function in Python.\n",
    "                                Similarly,the lambda keyword is used to define an anonymous function in Python"
   ]
  },
  {
   "cell_type": "markdown",
   "id": "00367913",
   "metadata": {},
   "source": [
    "## 4[a] Write your own functions"
   ]
  },
  {
   "cell_type": "code",
   "execution_count": 41,
   "id": "7870bceb",
   "metadata": {},
   "outputs": [],
   "source": [
    "def chicken_shop():          #def keyword is used to define a normal function in Python.\n",
    "    print(\"250g of chicken\")\n",
    "    print(\"Ginger garlic paste\")\n",
    "    print(\"4 eggs\")"
   ]
  },
  {
   "cell_type": "code",
   "execution_count": 42,
   "id": "5ec74089",
   "metadata": {},
   "outputs": [
    {
     "name": "stdout",
     "output_type": "stream",
     "text": [
      "250g of chicken\n",
      "Ginger garlic paste\n",
      "4 eggs\n"
     ]
    }
   ],
   "source": [
    "chicken_shop()"
   ]
  },
  {
   "cell_type": "code",
   "execution_count": 14,
   "id": "851e9a4a",
   "metadata": {},
   "outputs": [],
   "source": [
    "def margin():\n",
    "    n1 = input(\"enter no. of chicken \")\n",
    "    total = float(n1) * 200\n",
    "    print(\"Your total cost for \",total )"
   ]
  },
  {
   "cell_type": "code",
   "execution_count": 15,
   "id": "94793286",
   "metadata": {},
   "outputs": [
    {
     "name": "stdout",
     "output_type": "stream",
     "text": [
      "enter no. of chicken 3\n",
      "Your total cost for  600.0\n"
     ]
    }
   ],
   "source": [
    "margin()"
   ]
  },
  {
   "cell_type": "markdown",
   "id": "f70153ad",
   "metadata": {},
   "source": [
    "### Positional Argument"
   ]
  },
  {
   "cell_type": "code",
   "execution_count": 20,
   "id": "5c8aee74",
   "metadata": {},
   "outputs": [],
   "source": [
    "def add_numbers(num1,num2): #Arguments\n",
    "    print(\"Product of two numbers\",num1 + num2)\n",
    "    "
   ]
  },
  {
   "cell_type": "code",
   "execution_count": 21,
   "id": "c1b01291",
   "metadata": {},
   "outputs": [
    {
     "name": "stdout",
     "output_type": "stream",
     "text": [
      "Product of two numbers 12\n"
     ]
    }
   ],
   "source": [
    "add_numbers(7,5)  #parameters"
   ]
  },
  {
   "cell_type": "code",
   "execution_count": 23,
   "id": "4469bae6",
   "metadata": {},
   "outputs": [
    {
     "name": "stdout",
     "output_type": "stream",
     "text": [
      "Product of two numbers 11.1\n"
     ]
    }
   ],
   "source": [
    "add_numbers(5.3,5.8)"
   ]
  },
  {
   "cell_type": "code",
   "execution_count": null,
   "id": "d43ccf2d",
   "metadata": {},
   "outputs": [],
   "source": [
    "# Get three datatypes and create your own function which returns some meaningful statement."
   ]
  },
  {
   "cell_type": "code",
   "execution_count": 24,
   "id": "793159e9",
   "metadata": {},
   "outputs": [],
   "source": [
    "def user_details(name,age,weight):\n",
    "    return\"Your name is {} and you are {} years old and you weight {} kg.\".format(name,age,weight)\n"
   ]
  },
  {
   "cell_type": "code",
   "execution_count": 25,
   "id": "6f5d5cb5",
   "metadata": {},
   "outputs": [
    {
     "data": {
      "text/plain": [
       "'Your name is Alex and you are 26 years old and you weight 60 kg.'"
      ]
     },
     "execution_count": 25,
     "metadata": {},
     "output_type": "execute_result"
    }
   ],
   "source": [
    "user_details(\"Alex\",26,60)"
   ]
  },
  {
   "cell_type": "markdown",
   "id": "2950adf9",
   "metadata": {},
   "source": [
    "## Default arguments"
   ]
  },
  {
   "cell_type": "code",
   "execution_count": 12,
   "id": "c70abc6c",
   "metadata": {},
   "outputs": [],
   "source": [
    "def get_emp_details(name,age,salary,company = 'Google'):\n",
    "    print(\"Name: \",name)\n",
    "    print(\"Age: \",age)\n",
    "    print(\"Salary: \",salary)\n",
    "    print(\"Company:\",company)"
   ]
  },
  {
   "cell_type": "code",
   "execution_count": 14,
   "id": "39e24679",
   "metadata": {},
   "outputs": [
    {
     "name": "stdout",
     "output_type": "stream",
     "text": [
      "Name:  alex\n",
      "Age:  50\n",
      "Salary:  35000\n",
      "Company: Google\n"
     ]
    }
   ],
   "source": [
    "get_emp_details(age = 50, salary = 35000, name = \"alex\")"
   ]
  },
  {
   "cell_type": "code",
   "execution_count": 19,
   "id": "f9c0d569",
   "metadata": {},
   "outputs": [
    {
     "name": "stdout",
     "output_type": "stream",
     "text": [
      "Name:  Harry\n",
      "Age:  25\n",
      "Salary:  45000\n",
      "Company: Google\n"
     ]
    }
   ],
   "source": [
    "get_emp_details('Harry',25,45000)"
   ]
  },
  {
   "cell_type": "markdown",
   "id": "35315598",
   "metadata": {},
   "source": [
    "## Variable length argument"
   ]
  },
  {
   "cell_type": "code",
   "execution_count": 20,
   "id": "3b5db57b",
   "metadata": {},
   "outputs": [
    {
     "name": "stdout",
     "output_type": "stream",
     "text": [
      "Name:  Ryan\n",
      "Age:  36\n",
      "Salary:  45000\n",
      "Company: ('micro', 'google', 'IBM')\n"
     ]
    }
   ],
   "source": [
    "def get_emp_details(name,age,salary,*company ):              # (* is used to pass multiple parameters under one argument)\n",
    "    print(\"Name: \",name)\n",
    "    print(\"Age: \",age)\n",
    "    print(\"Salary: \",salary)\n",
    "    print(\"Company:\",company)\n",
    "get_emp_details('Ryan',36,45000,\"micro\",\"google\",\"IBM\")"
   ]
  },
  {
   "cell_type": "code",
   "execution_count": 23,
   "id": "00db485c",
   "metadata": {},
   "outputs": [
    {
     "name": "stdout",
     "output_type": "stream",
     "text": [
      "Name:  Alex\n",
      "Age:  37\n",
      "Salary:  45600\n",
      "Company: ('Techno', 'Expo', 'IBM')\n"
     ]
    }
   ],
   "source": [
    "get_emp_details('Alex',37,45600,\"Techno\",\"Expo\",\"IBM\")"
   ]
  },
  {
   "cell_type": "code",
   "execution_count": 25,
   "id": "27323ef0",
   "metadata": {},
   "outputs": [
    {
     "name": "stdout",
     "output_type": "stream",
     "text": [
      "Name:  Ryan\n",
      "Age:  36\n",
      "Salary:  45000\n",
      "Company: {'company1': 'micro', 'company2': 'google', 'company3': 'IBM'}\n"
     ]
    }
   ],
   "source": [
    "def get_emp_details(name,age,salary,**company ):  # (** is used to pass multiple parameters inside parameter under one argument)\n",
    "    print(\"Name: \",name)\n",
    "    print(\"Age: \",age)\n",
    "    print(\"Salary: \",salary)\n",
    "    print(\"Company:\",company)\n",
    "get_emp_details('Ryan',36,45000,company1 = \"micro\",company2= \"google\",company3= \"IBM\")"
   ]
  },
  {
   "cell_type": "markdown",
   "id": "7befaf9c",
   "metadata": {},
   "source": [
    "## 4[b] Run in circles"
   ]
  },
  {
   "cell_type": "code",
   "execution_count": 26,
   "id": "08cd8303",
   "metadata": {},
   "outputs": [
    {
     "data": {
      "text/plain": [
       "[1, 2, 3, 4, 5, 6, 7, 8, 9, 10]"
      ]
     },
     "execution_count": 26,
     "metadata": {},
     "output_type": "execute_result"
    }
   ],
   "source": [
    "a=[1,2,3,4,5,6,7,8,9,10]\n",
    "a"
   ]
  },
  {
   "cell_type": "code",
   "execution_count": 35,
   "id": "93dece8f",
   "metadata": {},
   "outputs": [
    {
     "name": "stdout",
     "output_type": "stream",
     "text": [
      "1\n",
      "2\n",
      "3\n",
      "4\n",
      "5\n",
      "6\n",
      "7\n",
      "8\n",
      "9\n",
      "10\n"
     ]
    }
   ],
   "source": [
    "# Here we want output one below another then so we use 'for' statement \n",
    "for i in a: \n",
    "    print(i)"
   ]
  },
  {
   "cell_type": "code",
   "execution_count": 37,
   "id": "9a4096dc",
   "metadata": {},
   "outputs": [
    {
     "name": "stdout",
     "output_type": "stream",
     "text": [
      "1\n",
      "2\n",
      "3\n",
      "4\n",
      "5\n",
      "6\n",
      "7\n",
      "8\n",
      "9\n",
      "10\n"
     ]
    }
   ],
   "source": [
    "# we use [range] when we wanr to print a in-between range ex; always place one number extra from what we want as it start from 0\n",
    "for i in range(1,11):\n",
    "    print(i)"
   ]
  },
  {
   "cell_type": "code",
   "execution_count": 39,
   "id": "008557f5",
   "metadata": {},
   "outputs": [
    {
     "name": "stdout",
     "output_type": "stream",
     "text": [
      "1\n",
      "3\n",
      "5\n",
      "7\n",
      "9\n"
     ]
    }
   ],
   "source": [
    "# here we want 2 numbers diffrence between two numbers\n",
    "for i in range(1,11,2):\n",
    "    print(i)"
   ]
  },
  {
   "cell_type": "markdown",
   "id": "f699a96e",
   "metadata": {},
   "source": [
    "## 4[c] Definations with for loop"
   ]
  },
  {
   "cell_type": "code",
   "execution_count": 41,
   "id": "e7c78524",
   "metadata": {},
   "outputs": [
    {
     "name": "stdout",
     "output_type": "stream",
     "text": [
      "H\n",
      "a\n",
      "r\n",
      "r\n",
      "y\n"
     ]
    },
    {
     "data": {
      "text/plain": [
       "'Splitting is completed'"
      ]
     },
     "execution_count": 41,
     "metadata": {},
     "output_type": "execute_result"
    }
   ],
   "source": [
    "def get_name(name):  # where ever we need a loop to be performed we use 'for loop'\n",
    "    for i in name:\n",
    "        print(i)\n",
    "    return\"Splitting is completed\"\n",
    "\n",
    "get_name(\"Harry\")"
   ]
  },
  {
   "cell_type": "markdown",
   "id": "a5174169",
   "metadata": {},
   "source": [
    "# Chapter 5 - Coditional Logic"
   ]
  },
  {
   "cell_type": "markdown",
   "id": "2af05c29",
   "metadata": {},
   "source": [
    "## 5[a] Comparing values using arithimatic operators"
   ]
  },
  {
   "cell_type": "code",
   "execution_count": 43,
   "id": "68d36344",
   "metadata": {},
   "outputs": [],
   "source": [
    "# In python fuctions of arithimatic operators are already stored ex:"
   ]
  },
  {
   "cell_type": "code",
   "execution_count": 44,
   "id": "356633b5",
   "metadata": {},
   "outputs": [
    {
     "data": {
      "text/plain": [
       "False"
      ]
     },
     "execution_count": 44,
     "metadata": {},
     "output_type": "execute_result"
    }
   ],
   "source": [
    "1 == 5"
   ]
  },
  {
   "cell_type": "code",
   "execution_count": 45,
   "id": "a03e94de",
   "metadata": {},
   "outputs": [
    {
     "data": {
      "text/plain": [
       "False"
      ]
     },
     "execution_count": 45,
     "metadata": {},
     "output_type": "execute_result"
    }
   ],
   "source": [
    "\"Zack\" == \"zack\""
   ]
  },
  {
   "cell_type": "code",
   "execution_count": 47,
   "id": "003acf74",
   "metadata": {},
   "outputs": [
    {
     "data": {
      "text/plain": [
       "True"
      ]
     },
     "execution_count": 47,
     "metadata": {},
     "output_type": "execute_result"
    }
   ],
   "source": [
    "1 != 5     # '!=' Means not epual"
   ]
  },
  {
   "cell_type": "code",
   "execution_count": 49,
   "id": "f0778cfb",
   "metadata": {},
   "outputs": [
    {
     "data": {
      "text/plain": [
       "False"
      ]
     },
     "execution_count": 49,
     "metadata": {},
     "output_type": "execute_result"
    }
   ],
   "source": [
    "1=='1'  #anything inside quotes {\"\"''} means string "
   ]
  },
  {
   "cell_type": "markdown",
   "id": "234e238f",
   "metadata": {},
   "source": [
    "## 5[b] Add some logic"
   ]
  },
  {
   "cell_type": "markdown",
   "id": "bfb9c99c",
   "metadata": {},
   "source": [
    "### AND operator\n",
    "        TT ---> T\n",
    "        \n",
    " ###  OR operator\n",
    "         FF ---> F"
   ]
  },
  {
   "cell_type": "code",
   "execution_count": 50,
   "id": "19d6a929",
   "metadata": {},
   "outputs": [
    {
     "data": {
      "text/plain": [
       "(False, True, True)"
      ]
     },
     "execution_count": 50,
     "metadata": {},
     "output_type": "execute_result"
    }
   ],
   "source": [
    "a = 5\n",
    "b = 10\n",
    "c = 15\n",
    "\n",
    "a>b , c>a , b<c"
   ]
  },
  {
   "cell_type": "code",
   "execution_count": 53,
   "id": "65476251",
   "metadata": {},
   "outputs": [
    {
     "data": {
      "text/plain": [
       "False"
      ]
     },
     "execution_count": 53,
     "metadata": {},
     "output_type": "execute_result"
    }
   ],
   "source": [
    "# AND operator gives true value only if both are true value or else it will return false\n",
    "a>b and c>a\n"
   ]
  },
  {
   "cell_type": "code",
   "execution_count": 57,
   "id": "4d001bda",
   "metadata": {},
   "outputs": [
    {
     "data": {
      "text/plain": [
       "True"
      ]
     },
     "execution_count": 57,
     "metadata": {},
     "output_type": "execute_result"
    }
   ],
   "source": [
    "# OR operator gives true value if their is a single true value or if there are all false then it will return false\n",
    "a>b or c>a"
   ]
  },
  {
   "cell_type": "code",
   "execution_count": 59,
   "id": "6875ead7",
   "metadata": {},
   "outputs": [
    {
     "data": {
      "text/plain": [
       "True"
      ]
     },
     "execution_count": 59,
     "metadata": {},
     "output_type": "execute_result"
    }
   ],
   "source": [
    "#IN Operator - Checks weather the given word is present in my paragraph (it is case-sensitive)\n",
    "trainer_feedback = \"Alex is a good Mentor\"\n",
    "\"Mentor\" in trainer_feedback"
   ]
  },
  {
   "cell_type": "code",
   "execution_count": 63,
   "id": "1548b97b",
   "metadata": {},
   "outputs": [
    {
     "data": {
      "text/plain": [
       "False"
      ]
     },
     "execution_count": 63,
     "metadata": {},
     "output_type": "execute_result"
    }
   ],
   "source": [
    "#NOT in Operator- False if statement given is True\n",
    "\"good\" not in trainer_feedback"
   ]
  },
  {
   "cell_type": "markdown",
   "id": "19d5c7de",
   "metadata": {},
   "source": [
    "## 5[c] Control the flow of your program"
   ]
  },
  {
   "cell_type": "code",
   "execution_count": 73,
   "id": "796f851d",
   "metadata": {},
   "outputs": [
    {
     "name": "stdout",
     "output_type": "stream",
     "text": [
      "Type something Alex\n",
      "Your Input is less than 5 characters\n"
     ]
    }
   ],
   "source": [
    "# simple IF-Else statement\n",
    "\n",
    "user_input = input(\"Type something \")\n",
    "\n",
    "if len(user_input)<5:\n",
    "    print(\"Your Input is less than 5 characters\")\n",
    "    \n",
    "else:\n",
    "    print(\"Your Input is Greater than 5 characters\")\n",
    "        "
   ]
  },
  {
   "cell_type": "code",
   "execution_count": 75,
   "id": "50976852",
   "metadata": {},
   "outputs": [
    {
     "name": "stdout",
     "output_type": "stream",
     "text": [
      "Type something Alexy\n",
      "Your input is exact 5 characters\n"
     ]
    }
   ],
   "source": [
    "#Nested IF Statement\n",
    "\n",
    "user_input = input(\"Type something \")\n",
    "\n",
    "if len(user_input)<5:\n",
    "    print(\"Your Input is less than 5 characters\")\n",
    "    \n",
    "elif len(user_input)>5:\n",
    "    print(\"Your Input is Greater than 5 characters\")\n",
    "    \n",
    "else:\n",
    "    print(\"Your input is exact 5 characters\")"
   ]
  },
  {
   "cell_type": "markdown",
   "id": "533c72e1",
   "metadata": {},
   "source": [
    "## 5[d] Challenge to find factors of a number"
   ]
  },
  {
   "cell_type": "code",
   "execution_count": null,
   "id": "1569e0bf",
   "metadata": {},
   "outputs": [],
   "source": [
    "# For ex if input= 10 , output= 1,2,5,10."
   ]
  },
  {
   "cell_type": "code",
   "execution_count": 84,
   "id": "b0ca2cc8",
   "metadata": {},
   "outputs": [
    {
     "name": "stdout",
     "output_type": "stream",
     "text": [
      "Enter number to find factors of 10\n",
      "1\n",
      "2\n",
      "5\n",
      "10\n",
      "These are factors of  10\n"
     ]
    }
   ],
   "source": [
    "num1 = int(input(\"Enter number to find factors of \"))\n",
    "\n",
    "for i in range(1,num1+1):\n",
    "    if num1 % i == 0:\n",
    "        print(i)\n",
    "print(\"These are factors of \",num1)"
   ]
  },
  {
   "cell_type": "markdown",
   "id": "8337234b",
   "metadata": {},
   "source": [
    "## 5[e] Break out of the pattern"
   ]
  },
  {
   "cell_type": "code",
   "execution_count": 1,
   "id": "fa0f416a",
   "metadata": {},
   "outputs": [
    {
     "name": "stdout",
     "output_type": "stream",
     "text": [
      "Tpye q or Q for exit Q\n",
      "Tpye q or Q for exit q\n"
     ]
    }
   ],
   "source": [
    "#Break the loop\n",
    "#while true :- it gets executed until the value gets true\n",
    "while True:\n",
    "    get_input= input(\"Tpye q or Q for exit \")\n",
    "    if get_input == 'q':\n",
    "        break"
   ]
  },
  {
   "cell_type": "code",
   "execution_count": 8,
   "id": "8497b37a",
   "metadata": {},
   "outputs": [
    {
     "name": "stdout",
     "output_type": "stream",
     "text": [
      "Tpye any vowels to exit w\n",
      "Tpye any vowels to exit a\n"
     ]
    }
   ],
   "source": [
    "while True:\n",
    "    get_input= input(\"Tpye any vowels to exit \")\n",
    "    if get_input == 'a' and 'e' and 'i' and 'o' and 'u':\n",
    "        break"
   ]
  },
  {
   "cell_type": "code",
   "execution_count": 7,
   "id": "f84aa988",
   "metadata": {},
   "outputs": [
    {
     "name": "stdout",
     "output_type": "stream",
     "text": [
      "1\n",
      "2\n",
      "4\n",
      "5\n",
      "7\n",
      "8\n"
     ]
    }
   ],
   "source": [
    "#Continue inside loop :- it returns the control to the beginning of the while loop, it does not break until fully executed \n",
    "for i in range(1,10):     #'%' Modulus :Gives remainder of the division\n",
    "    if i%3 == 0:\n",
    "        continue\n",
    "    print(i)\n"
   ]
  },
  {
   "cell_type": "code",
   "execution_count": null,
   "id": "25f03149",
   "metadata": {},
   "outputs": [],
   "source": []
  }
 ],
 "metadata": {
  "kernelspec": {
   "display_name": "Python 3",
   "language": "python",
   "name": "python3"
  },
  "language_info": {
   "codemirror_mode": {
    "name": "ipython",
    "version": 3
   },
   "file_extension": ".py",
   "mimetype": "text/x-python",
   "name": "python",
   "nbconvert_exporter": "python",
   "pygments_lexer": "ipython3",
   "version": "3.8.8"
  }
 },
 "nbformat": 4,
 "nbformat_minor": 5
}
