{
 "cells": [
  {
   "cell_type": "markdown",
   "id": "bfb72c8f",
   "metadata": {},
   "source": [
    "## Crime Data set"
   ]
  },
  {
   "cell_type": "markdown",
   "id": "c4bbb13a",
   "metadata": {},
   "source": [
    "## Hierarchical"
   ]
  },
  {
   "cell_type": "code",
   "execution_count": 1,
   "id": "abd78539",
   "metadata": {},
   "outputs": [],
   "source": [
    "import scipy.cluster.hierarchy as sch\n",
    "from sklearn.cluster import AgglomerativeClustering\n",
    "import numpy as np\n",
    "import pandas as pd\n",
    "from matplotlib import pyplot as plt\n",
    "import seaborn as sns"
   ]
  },
  {
   "cell_type": "code",
   "execution_count": 2,
   "id": "ed4dd22d",
   "metadata": {},
   "outputs": [
    {
     "data": {
      "text/html": [
       "<div>\n",
       "<style scoped>\n",
       "    .dataframe tbody tr th:only-of-type {\n",
       "        vertical-align: middle;\n",
       "    }\n",
       "\n",
       "    .dataframe tbody tr th {\n",
       "        vertical-align: top;\n",
       "    }\n",
       "\n",
       "    .dataframe thead th {\n",
       "        text-align: right;\n",
       "    }\n",
       "</style>\n",
       "<table border=\"1\" class=\"dataframe\">\n",
       "  <thead>\n",
       "    <tr style=\"text-align: right;\">\n",
       "      <th></th>\n",
       "      <th>Unnamed: 0</th>\n",
       "      <th>Murder</th>\n",
       "      <th>Assault</th>\n",
       "      <th>UrbanPop</th>\n",
       "      <th>Rape</th>\n",
       "    </tr>\n",
       "  </thead>\n",
       "  <tbody>\n",
       "    <tr>\n",
       "      <th>0</th>\n",
       "      <td>Alabama</td>\n",
       "      <td>13.2</td>\n",
       "      <td>236</td>\n",
       "      <td>58</td>\n",
       "      <td>21.2</td>\n",
       "    </tr>\n",
       "    <tr>\n",
       "      <th>1</th>\n",
       "      <td>Alaska</td>\n",
       "      <td>10.0</td>\n",
       "      <td>263</td>\n",
       "      <td>48</td>\n",
       "      <td>44.5</td>\n",
       "    </tr>\n",
       "    <tr>\n",
       "      <th>2</th>\n",
       "      <td>Arizona</td>\n",
       "      <td>8.1</td>\n",
       "      <td>294</td>\n",
       "      <td>80</td>\n",
       "      <td>31.0</td>\n",
       "    </tr>\n",
       "    <tr>\n",
       "      <th>3</th>\n",
       "      <td>Arkansas</td>\n",
       "      <td>8.8</td>\n",
       "      <td>190</td>\n",
       "      <td>50</td>\n",
       "      <td>19.5</td>\n",
       "    </tr>\n",
       "    <tr>\n",
       "      <th>4</th>\n",
       "      <td>California</td>\n",
       "      <td>9.0</td>\n",
       "      <td>276</td>\n",
       "      <td>91</td>\n",
       "      <td>40.6</td>\n",
       "    </tr>\n",
       "  </tbody>\n",
       "</table>\n",
       "</div>"
      ],
      "text/plain": [
       "   Unnamed: 0  Murder  Assault  UrbanPop  Rape\n",
       "0     Alabama    13.2      236        58  21.2\n",
       "1      Alaska    10.0      263        48  44.5\n",
       "2     Arizona     8.1      294        80  31.0\n",
       "3    Arkansas     8.8      190        50  19.5\n",
       "4  California     9.0      276        91  40.6"
      ]
     },
     "execution_count": 2,
     "metadata": {},
     "output_type": "execute_result"
    }
   ],
   "source": [
    "crime = pd.read_csv('crime_data.csv')\n",
    "crime.head()"
   ]
  },
  {
   "cell_type": "code",
   "execution_count": 3,
   "id": "468d7d2d",
   "metadata": {},
   "outputs": [],
   "source": [
    "#Normalisation function\n",
    "def norm_func(i):\n",
    "    x = (i-i.min())/(i.max()-i.min())\n",
    "    return (x)"
   ]
  },
  {
   "cell_type": "code",
   "execution_count": 4,
   "id": "f3c4ce96",
   "metadata": {},
   "outputs": [],
   "source": [
    "df_norm = norm_func(crime.iloc[:,1:])"
   ]
  },
  {
   "cell_type": "code",
   "execution_count": 5,
   "id": "35964b04",
   "metadata": {},
   "outputs": [
    {
     "data": {
      "image/png": "[encoded data removed]",
      "text/plain": [
       "<Figure size 432x288 with 1 Axes>"
      ]
     },
     "metadata": {
      "needs_background": "light"
     },
     "output_type": "display_data"
    }
   ],
   "source": [
    "dendrogram = sch.dendrogram(sch.linkage(df_norm, method='complete',metric='euclidean'))"
   ]
  },
  {
   "cell_type": "code",
   "execution_count": 6,
   "id": "ee05d7d0",
   "metadata": {},
   "outputs": [],
   "source": [
    "# create clusters\n",
    "hc = AgglomerativeClustering(n_clusters=4, affinity='euclidean',linkage='complete')"
   ]
  },
  {
   "cell_type": "code",
   "execution_count": 7,
   "id": "b5965909",
   "metadata": {},
   "outputs": [],
   "source": [
    "# save clusters for chart\n",
    "y_hc = hc.fit_predict(df_norm)\n",
    "clusters = pd.DataFrame(y_hc,columns=['clusters'])"
   ]
  },
  {
   "cell_type": "code",
   "execution_count": 8,
   "id": "67fa0760",
   "metadata": {},
   "outputs": [
    {
     "data": {
      "text/plain": [
       "clusters\n",
       "1           20\n",
       "3           12\n",
       "2           10\n",
       "0            8\n",
       "dtype: int64"
      ]
     },
     "execution_count": 8,
     "metadata": {},
     "output_type": "execute_result"
    }
   ],
   "source": [
    "clusters.value_counts()"
   ]
  },
  {
   "cell_type": "markdown",
   "id": "e3432a7f",
   "metadata": {},
   "source": [
    "### K-Means "
   ]
  },
  {
   "cell_type": "code",
   "execution_count": 9,
   "id": "6a65f4bb",
   "metadata": {},
   "outputs": [],
   "source": [
    "from sklearn.cluster import KMeans\n",
    "from scipy.spatial.distance import cdist\n",
    "import warnings\n",
    "warnings.filterwarnings('ignore')"
   ]
  },
  {
   "cell_type": "code",
   "execution_count": 10,
   "id": "0bbbb69d",
   "metadata": {},
   "outputs": [
    {
     "data": {
      "image/png": "[encoded data removed]",
      "text/plain": [
       "<Figure size 432x288 with 1 Axes>"
      ]
     },
     "metadata": {
      "needs_background": "light"
     },
     "output_type": "display_data"
    }
   ],
   "source": [
    "data = []\n",
    "for i in range (1, 11):\n",
    "    kmeans = KMeans(n_clusters=i, random_state=0)\n",
    "    kmeans.fit(df_norm)\n",
    "    data.append(kmeans.inertia_)\n",
    "plt.plot(range(1, 11), data)\n",
    "plt.title('Elbow Method')\n",
    "plt.xlabel('Number of clusters')\n",
    "plt.ylabel('DATA')\n",
    "plt.show()"
   ]
  },
  {
   "cell_type": "code",
   "execution_count": 11,
   "id": "a2aed3fb",
   "metadata": {},
   "outputs": [
    {
     "data": {
      "text/plain": [
       "array([0, 2, 2, 0, 2, 2, 1, 1, 2, 0, 1, 3, 2, 1, 3, 1, 3, 0, 3, 2, 1, 2,\n",
       "       3, 0, 2, 3, 3, 2, 3, 1, 2, 2, 0, 3, 1, 1, 1, 1, 1, 0, 3, 0, 2, 1,\n",
       "       3, 1, 1, 3, 3, 1])"
      ]
     },
     "execution_count": 11,
     "metadata": {},
     "output_type": "execute_result"
    }
   ],
   "source": [
    "model2 = KMeans(n_clusters=4).fit(df_norm)\n",
    "model2.labels_"
   ]
  },
  {
   "cell_type": "code",
   "execution_count": 12,
   "id": "f7a2371d",
   "metadata": {},
   "outputs": [
    {
     "data": {
      "text/plain": [
       "1    16\n",
       "2    13\n",
       "3    13\n",
       "0     8\n",
       "dtype: int64"
      ]
     },
     "execution_count": 12,
     "metadata": {},
     "output_type": "execute_result"
    }
   ],
   "source": [
    "kmean_cluster = pd.Series(model2.labels_)\n",
    "kmean_cluster.value_counts()"
   ]
  },
  {
   "cell_type": "markdown",
   "id": "92661efe",
   "metadata": {},
   "source": []
  },
  {
   "cell_type": "markdown",
   "id": "486e5dae",
   "metadata": {},
   "source": [
    "### DBscan "
   ]
  },
  {
   "cell_type": "code",
   "execution_count": 13,
   "id": "4ef83790",
   "metadata": {},
   "outputs": [],
   "source": [
    "from sklearn.cluster import DBSCAN\n",
    "from sklearn.preprocessing import StandardScaler"
   ]
  },
  {
   "cell_type": "code",
   "execution_count": 14,
   "id": "94829e7f",
   "metadata": {},
   "outputs": [],
   "source": [
    "stscaler = StandardScaler().fit(df_norm)\n",
    "X = stscaler.transform(df_norm)"
   ]
  },
  {
   "cell_type": "code",
   "execution_count": 15,
   "id": "03334834",
   "metadata": {},
   "outputs": [
    {
     "data": {
      "text/plain": [
       "array([[ 1.25517927,  0.79078716, -0.52619514, -0.00345116],\n",
       "       [ 0.51301858,  1.11805959, -1.22406668,  2.50942392],\n",
       "       [ 0.07236067,  1.49381682,  1.00912225,  1.05346626],\n",
       "       [ 0.23470832,  0.23321191, -1.08449238, -0.18679398],\n",
       "       [ 0.28109336,  1.2756352 ,  1.77678094,  2.08881393],\n",
       "       [ 0.02597562,  0.40290872,  0.86954794,  1.88390137],\n",
       "       [-1.04088037, -0.73648418,  0.79976079, -1.09272319],\n",
       "       [-0.43787481,  0.81502956,  0.45082502, -0.58583422],\n",
       "       [ 1.76541475,  1.99078607,  1.00912225,  1.1505301 ],\n",
       "       [ 2.22926518,  0.48775713, -0.38662083,  0.49265293],\n",
       "       [-0.57702994, -1.51224105,  1.21848371, -0.11129987],\n",
       "       [-1.20322802, -0.61527217, -0.80534376, -0.75839217],\n",
       "       [ 0.60578867,  0.94836277,  1.21848371,  0.29852525],\n",
       "       [-0.13637203, -0.70012057, -0.03768506, -0.0250209 ],\n",
       "       [-1.29599811, -1.39102904, -0.5959823 , -1.07115345],\n",
       "       [-0.41468229, -0.67587817,  0.03210209, -0.34856705],\n",
       "       [ 0.44344101, -0.74860538, -0.94491807, -0.53190987],\n",
       "       [ 1.76541475,  0.94836277,  0.03210209,  0.10439756],\n",
       "       [-1.31919063, -1.06375661, -1.01470522, -1.44862395],\n",
       "       [ 0.81452136,  1.56654403,  0.10188925,  0.70835037],\n",
       "       [-0.78576263, -0.26375734,  1.35805802, -0.53190987],\n",
       "       [ 1.00006153,  1.02108998,  0.59039932,  1.49564599],\n",
       "       [-1.1800355 , -1.19708982,  0.03210209, -0.68289807],\n",
       "       [ 1.9277624 ,  1.06957478, -1.5032153 , -0.44563089],\n",
       "       [ 0.28109336,  0.0877575 ,  0.31125071,  0.75148985],\n",
       "       [-0.41468229, -0.74860538, -0.87513091, -0.521125  ],\n",
       "       [-0.80895515, -0.83345379, -0.24704653, -0.51034012],\n",
       "       [ 1.02325405,  0.98472638,  1.0789094 ,  2.671197  ],\n",
       "       [-1.31919063, -1.37890783, -0.66576945, -1.26528114],\n",
       "       [-0.08998698, -0.14254532,  1.63720664, -0.26228808],\n",
       "       [ 0.83771388,  1.38472601,  0.31125071,  1.17209984],\n",
       "       [ 0.76813632,  1.00896878,  1.42784517,  0.52500755],\n",
       "       [ 1.20879423,  2.01502847, -1.43342815, -0.55347961],\n",
       "       [-1.62069341, -1.52436225, -1.5032153 , -1.50254831],\n",
       "       [-0.11317951, -0.61527217,  0.66018648,  0.01811858],\n",
       "       [-0.27552716, -0.23951493,  0.1716764 , -0.13286962],\n",
       "       [-0.66980002, -0.14254532,  0.10188925,  0.87012344],\n",
       "       [-0.34510472, -0.78496898,  0.45082502, -0.68289807],\n",
       "       [-1.01768785,  0.03927269,  1.49763233, -1.39469959],\n",
       "       [ 1.53348953,  1.3119988 , -1.22406668,  0.13675217],\n",
       "       [-0.92491776, -1.027393  , -1.43342815, -0.90938037],\n",
       "       [ 1.25517927,  0.20896951, -0.45640799,  0.61128652],\n",
       "       [ 1.13921666,  0.36654512,  1.00912225,  0.46029832],\n",
       "       [-1.06407289, -0.61527217,  1.00912225,  0.17989166],\n",
       "       [-1.29599811, -1.48799864, -2.34066115, -1.08193832],\n",
       "       [ 0.16513075, -0.17890893, -0.17725937, -0.05737552],\n",
       "       [-0.87853272, -0.31224214,  0.52061217,  0.53579242],\n",
       "       [-0.48425985, -1.08799901, -1.85215107, -1.28685088],\n",
       "       [-1.20322802, -1.42739264,  0.03210209, -1.1250778 ],\n",
       "       [-0.22914211, -0.11830292, -0.38662083, -0.60740397]])"
      ]
     },
     "execution_count": 15,
     "metadata": {},
     "output_type": "execute_result"
    }
   ],
   "source": [
    "X"
   ]
  },
  {
   "cell_type": "code",
   "execution_count": 16,
   "id": "56b6688c",
   "metadata": {},
   "outputs": [
    {
     "data": {
      "text/plain": [
       "DBSCAN(eps=0.8, min_samples=4)"
      ]
     },
     "execution_count": 16,
     "metadata": {},
     "output_type": "execute_result"
    }
   ],
   "source": [
    "dbsan = DBSCAN(eps=0.8, min_samples=4)\n",
    "dbsan.fit(X)"
   ]
  },
  {
   "cell_type": "code",
   "execution_count": 17,
   "id": "0dee4a42",
   "metadata": {},
   "outputs": [
    {
     "data": {
      "text/plain": [
       "array([-1, -1, -1, -1, -1, -1, -1, -1, -1, -1, -1,  0, -1,  0,  0,  0, -1,\n",
       "       -1,  0, -1, -1, -1,  0, -1, -1,  0,  0, -1,  0, -1, -1, -1, -1,  0,\n",
       "        0,  0, -1,  0, -1, -1,  0, -1, -1, -1, -1,  0, -1, -1,  0,  0],\n",
       "      dtype=int64)"
      ]
     },
     "execution_count": 17,
     "metadata": {},
     "output_type": "execute_result"
    }
   ],
   "source": [
    "dbsan.labels_"
   ]
  },
  {
   "cell_type": "code",
   "execution_count": 18,
   "id": "faba7176",
   "metadata": {},
   "outputs": [],
   "source": [
    "dbscan_cluster = pd.DataFrame(dbsan.labels_,columns=['Cluster'])"
   ]
  },
  {
   "cell_type": "code",
   "execution_count": 19,
   "id": "6379b3a9",
   "metadata": {},
   "outputs": [
    {
     "data": {
      "text/html": [
       "<div>\n",
       "<style scoped>\n",
       "    .dataframe tbody tr th:only-of-type {\n",
       "        vertical-align: middle;\n",
       "    }\n",
       "\n",
       "    .dataframe tbody tr th {\n",
       "        vertical-align: top;\n",
       "    }\n",
       "\n",
       "    .dataframe thead th {\n",
       "        text-align: right;\n",
       "    }\n",
       "</style>\n",
       "<table border=\"1\" class=\"dataframe\">\n",
       "  <thead>\n",
       "    <tr style=\"text-align: right;\">\n",
       "      <th></th>\n",
       "      <th>Cluster</th>\n",
       "    </tr>\n",
       "  </thead>\n",
       "  <tbody>\n",
       "    <tr>\n",
       "      <th>0</th>\n",
       "      <td>-1</td>\n",
       "    </tr>\n",
       "    <tr>\n",
       "      <th>1</th>\n",
       "      <td>-1</td>\n",
       "    </tr>\n",
       "    <tr>\n",
       "      <th>2</th>\n",
       "      <td>-1</td>\n",
       "    </tr>\n",
       "    <tr>\n",
       "      <th>3</th>\n",
       "      <td>-1</td>\n",
       "    </tr>\n",
       "    <tr>\n",
       "      <th>4</th>\n",
       "      <td>-1</td>\n",
       "    </tr>\n",
       "    <tr>\n",
       "      <th>5</th>\n",
       "      <td>-1</td>\n",
       "    </tr>\n",
       "    <tr>\n",
       "      <th>6</th>\n",
       "      <td>-1</td>\n",
       "    </tr>\n",
       "    <tr>\n",
       "      <th>7</th>\n",
       "      <td>-1</td>\n",
       "    </tr>\n",
       "    <tr>\n",
       "      <th>8</th>\n",
       "      <td>-1</td>\n",
       "    </tr>\n",
       "    <tr>\n",
       "      <th>9</th>\n",
       "      <td>-1</td>\n",
       "    </tr>\n",
       "    <tr>\n",
       "      <th>10</th>\n",
       "      <td>-1</td>\n",
       "    </tr>\n",
       "    <tr>\n",
       "      <th>11</th>\n",
       "      <td>0</td>\n",
       "    </tr>\n",
       "    <tr>\n",
       "      <th>12</th>\n",
       "      <td>-1</td>\n",
       "    </tr>\n",
       "    <tr>\n",
       "      <th>13</th>\n",
       "      <td>0</td>\n",
       "    </tr>\n",
       "    <tr>\n",
       "      <th>14</th>\n",
       "      <td>0</td>\n",
       "    </tr>\n",
       "    <tr>\n",
       "      <th>15</th>\n",
       "      <td>0</td>\n",
       "    </tr>\n",
       "    <tr>\n",
       "      <th>16</th>\n",
       "      <td>-1</td>\n",
       "    </tr>\n",
       "    <tr>\n",
       "      <th>17</th>\n",
       "      <td>-1</td>\n",
       "    </tr>\n",
       "    <tr>\n",
       "      <th>18</th>\n",
       "      <td>0</td>\n",
       "    </tr>\n",
       "    <tr>\n",
       "      <th>19</th>\n",
       "      <td>-1</td>\n",
       "    </tr>\n",
       "    <tr>\n",
       "      <th>20</th>\n",
       "      <td>-1</td>\n",
       "    </tr>\n",
       "    <tr>\n",
       "      <th>21</th>\n",
       "      <td>-1</td>\n",
       "    </tr>\n",
       "    <tr>\n",
       "      <th>22</th>\n",
       "      <td>0</td>\n",
       "    </tr>\n",
       "    <tr>\n",
       "      <th>23</th>\n",
       "      <td>-1</td>\n",
       "    </tr>\n",
       "    <tr>\n",
       "      <th>24</th>\n",
       "      <td>-1</td>\n",
       "    </tr>\n",
       "    <tr>\n",
       "      <th>25</th>\n",
       "      <td>0</td>\n",
       "    </tr>\n",
       "    <tr>\n",
       "      <th>26</th>\n",
       "      <td>0</td>\n",
       "    </tr>\n",
       "    <tr>\n",
       "      <th>27</th>\n",
       "      <td>-1</td>\n",
       "    </tr>\n",
       "    <tr>\n",
       "      <th>28</th>\n",
       "      <td>0</td>\n",
       "    </tr>\n",
       "    <tr>\n",
       "      <th>29</th>\n",
       "      <td>-1</td>\n",
       "    </tr>\n",
       "    <tr>\n",
       "      <th>30</th>\n",
       "      <td>-1</td>\n",
       "    </tr>\n",
       "    <tr>\n",
       "      <th>31</th>\n",
       "      <td>-1</td>\n",
       "    </tr>\n",
       "    <tr>\n",
       "      <th>32</th>\n",
       "      <td>-1</td>\n",
       "    </tr>\n",
       "    <tr>\n",
       "      <th>33</th>\n",
       "      <td>0</td>\n",
       "    </tr>\n",
       "    <tr>\n",
       "      <th>34</th>\n",
       "      <td>0</td>\n",
       "    </tr>\n",
       "    <tr>\n",
       "      <th>35</th>\n",
       "      <td>0</td>\n",
       "    </tr>\n",
       "    <tr>\n",
       "      <th>36</th>\n",
       "      <td>-1</td>\n",
       "    </tr>\n",
       "    <tr>\n",
       "      <th>37</th>\n",
       "      <td>0</td>\n",
       "    </tr>\n",
       "    <tr>\n",
       "      <th>38</th>\n",
       "      <td>-1</td>\n",
       "    </tr>\n",
       "    <tr>\n",
       "      <th>39</th>\n",
       "      <td>-1</td>\n",
       "    </tr>\n",
       "    <tr>\n",
       "      <th>40</th>\n",
       "      <td>0</td>\n",
       "    </tr>\n",
       "    <tr>\n",
       "      <th>41</th>\n",
       "      <td>-1</td>\n",
       "    </tr>\n",
       "    <tr>\n",
       "      <th>42</th>\n",
       "      <td>-1</td>\n",
       "    </tr>\n",
       "    <tr>\n",
       "      <th>43</th>\n",
       "      <td>-1</td>\n",
       "    </tr>\n",
       "    <tr>\n",
       "      <th>44</th>\n",
       "      <td>-1</td>\n",
       "    </tr>\n",
       "    <tr>\n",
       "      <th>45</th>\n",
       "      <td>0</td>\n",
       "    </tr>\n",
       "    <tr>\n",
       "      <th>46</th>\n",
       "      <td>-1</td>\n",
       "    </tr>\n",
       "    <tr>\n",
       "      <th>47</th>\n",
       "      <td>-1</td>\n",
       "    </tr>\n",
       "    <tr>\n",
       "      <th>48</th>\n",
       "      <td>0</td>\n",
       "    </tr>\n",
       "    <tr>\n",
       "      <th>49</th>\n",
       "      <td>0</td>\n",
       "    </tr>\n",
       "  </tbody>\n",
       "</table>\n",
       "</div>"
      ],
      "text/plain": [
       "    Cluster\n",
       "0        -1\n",
       "1        -1\n",
       "2        -1\n",
       "3        -1\n",
       "4        -1\n",
       "5        -1\n",
       "6        -1\n",
       "7        -1\n",
       "8        -1\n",
       "9        -1\n",
       "10       -1\n",
       "11        0\n",
       "12       -1\n",
       "13        0\n",
       "14        0\n",
       "15        0\n",
       "16       -1\n",
       "17       -1\n",
       "18        0\n",
       "19       -1\n",
       "20       -1\n",
       "21       -1\n",
       "22        0\n",
       "23       -1\n",
       "24       -1\n",
       "25        0\n",
       "26        0\n",
       "27       -1\n",
       "28        0\n",
       "29       -1\n",
       "30       -1\n",
       "31       -1\n",
       "32       -1\n",
       "33        0\n",
       "34        0\n",
       "35        0\n",
       "36       -1\n",
       "37        0\n",
       "38       -1\n",
       "39       -1\n",
       "40        0\n",
       "41       -1\n",
       "42       -1\n",
       "43       -1\n",
       "44       -1\n",
       "45        0\n",
       "46       -1\n",
       "47       -1\n",
       "48        0\n",
       "49        0"
      ]
     },
     "execution_count": 19,
     "metadata": {},
     "output_type": "execute_result"
    }
   ],
   "source": [
    "dbscan_cluster"
   ]
  },
  {
   "cell_type": "code",
   "execution_count": 20,
   "id": "ed80e57e",
   "metadata": {},
   "outputs": [
    {
     "data": {
      "text/plain": [
       "Cluster\n",
       "-1         33\n",
       " 0         17\n",
       "dtype: int64"
      ]
     },
     "execution_count": 20,
     "metadata": {},
     "output_type": "execute_result"
    }
   ],
   "source": [
    "dbscan_cluster.value_counts()"
   ]
  },
  {
   "cell_type": "code",
   "execution_count": null,
   "id": "155c3793",
   "metadata": {},
   "outputs": [],
   "source": []
  },
  {
   "cell_type": "code",
   "execution_count": null,
   "id": "f45c0273",
   "metadata": {},
   "outputs": [],
   "source": []
  }
 ],
 "metadata": {
  "_draft": {
   "nbviewer_url": "https://gist.github.com/aee264729d1362834e53f4fa188bdd17"
  },
  "gist": {
   "data": {
    "description": "Data science 2pm/assignments/Assi cluster crime.ipynb",
    "public": true
   },
   "id": "aee264729d1362834e53f4fa188bdd17"
  },
  "kernelspec": {
   "display_name": "Python 3",
   "language": "python",
   "name": "python3"
  },
  "language_info": {
   "codemirror_mode": {
    "name": "ipython",
    "version": 3
   },
   "file_extension": ".py",
   "mimetype": "text/x-python",
   "name": "python",
   "nbconvert_exporter": "python",
   "pygments_lexer": "ipython3",
   "version": "3.8.8"
  }
 },
 "nbformat": 4,
 "nbformat_minor": 5
}
