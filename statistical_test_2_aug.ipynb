{
 "cells": [
  {
   "cell_type": "markdown",
   "id": "a433e7ea",
   "metadata": {},
   "source": [
    "# Statical test"
   ]
  },
  {
   "cell_type": "markdown",
   "id": "041397ee",
   "metadata": {},
   "source": [
    "## Chi-squared test"
   ]
  },
  {
   "cell_type": "markdown",
   "id": "5bc29242",
   "metadata": {},
   "source": [
    "### Purpose: To find is there any significant association/relationship between 2 qualitative variables"
   ]
  },
  {
   "cell_type": "code",
   "execution_count": 1,
   "id": "2ce83030",
   "metadata": {},
   "outputs": [],
   "source": [
    "import seaborn as sns\n",
    "import pandas as pd\n",
    "import numpy as np\n",
    "import scipy.stats as stats"
   ]
  },
  {
   "cell_type": "code",
   "execution_count": 3,
   "id": "d771ae00",
   "metadata": {},
   "outputs": [
    {
     "data": {
      "text/plain": [
       "['anagrams',\n",
       " 'anscombe',\n",
       " 'attention',\n",
       " 'brain_networks',\n",
       " 'car_crashes',\n",
       " 'diamonds',\n",
       " 'dots',\n",
       " 'exercise',\n",
       " 'flights',\n",
       " 'fmri',\n",
       " 'gammas',\n",
       " 'geyser',\n",
       " 'iris',\n",
       " 'mpg',\n",
       " 'penguins',\n",
       " 'planets',\n",
       " 'tips',\n",
       " 'titanic']"
      ]
     },
     "execution_count": 3,
     "metadata": {},
     "output_type": "execute_result"
    }
   ],
   "source": [
    "sns.get_dataset_names()"
   ]
  },
  {
   "cell_type": "code",
   "execution_count": 4,
   "id": "a73ddaad",
   "metadata": {},
   "outputs": [
    {
     "data": {
      "text/html": [
       "<div>\n",
       "<style scoped>\n",
       "    .dataframe tbody tr th:only-of-type {\n",
       "        vertical-align: middle;\n",
       "    }\n",
       "\n",
       "    .dataframe tbody tr th {\n",
       "        vertical-align: top;\n",
       "    }\n",
       "\n",
       "    .dataframe thead th {\n",
       "        text-align: right;\n",
       "    }\n",
       "</style>\n",
       "<table border=\"1\" class=\"dataframe\">\n",
       "  <thead>\n",
       "    <tr style=\"text-align: right;\">\n",
       "      <th></th>\n",
       "      <th>total_bill</th>\n",
       "      <th>tip</th>\n",
       "      <th>sex</th>\n",
       "      <th>smoker</th>\n",
       "      <th>day</th>\n",
       "      <th>time</th>\n",
       "      <th>size</th>\n",
       "    </tr>\n",
       "  </thead>\n",
       "  <tbody>\n",
       "    <tr>\n",
       "      <th>0</th>\n",
       "      <td>16.99</td>\n",
       "      <td>1.01</td>\n",
       "      <td>Female</td>\n",
       "      <td>No</td>\n",
       "      <td>Sun</td>\n",
       "      <td>Dinner</td>\n",
       "      <td>2</td>\n",
       "    </tr>\n",
       "    <tr>\n",
       "      <th>1</th>\n",
       "      <td>10.34</td>\n",
       "      <td>1.66</td>\n",
       "      <td>Male</td>\n",
       "      <td>No</td>\n",
       "      <td>Sun</td>\n",
       "      <td>Dinner</td>\n",
       "      <td>3</td>\n",
       "    </tr>\n",
       "    <tr>\n",
       "      <th>2</th>\n",
       "      <td>21.01</td>\n",
       "      <td>3.50</td>\n",
       "      <td>Male</td>\n",
       "      <td>No</td>\n",
       "      <td>Sun</td>\n",
       "      <td>Dinner</td>\n",
       "      <td>3</td>\n",
       "    </tr>\n",
       "    <tr>\n",
       "      <th>3</th>\n",
       "      <td>23.68</td>\n",
       "      <td>3.31</td>\n",
       "      <td>Male</td>\n",
       "      <td>No</td>\n",
       "      <td>Sun</td>\n",
       "      <td>Dinner</td>\n",
       "      <td>2</td>\n",
       "    </tr>\n",
       "    <tr>\n",
       "      <th>4</th>\n",
       "      <td>24.59</td>\n",
       "      <td>3.61</td>\n",
       "      <td>Female</td>\n",
       "      <td>No</td>\n",
       "      <td>Sun</td>\n",
       "      <td>Dinner</td>\n",
       "      <td>4</td>\n",
       "    </tr>\n",
       "  </tbody>\n",
       "</table>\n",
       "</div>"
      ],
      "text/plain": [
       "   total_bill   tip     sex smoker  day    time  size\n",
       "0       16.99  1.01  Female     No  Sun  Dinner     2\n",
       "1       10.34  1.66    Male     No  Sun  Dinner     3\n",
       "2       21.01  3.50    Male     No  Sun  Dinner     3\n",
       "3       23.68  3.31    Male     No  Sun  Dinner     2\n",
       "4       24.59  3.61  Female     No  Sun  Dinner     4"
      ]
     },
     "execution_count": 4,
     "metadata": {},
     "output_type": "execute_result"
    }
   ],
   "source": [
    "tips_data = sns.load_dataset('tips')\n",
    "tips_data.head()"
   ]
  },
  {
   "cell_type": "markdown",
   "id": "1af8c5c6",
   "metadata": {},
   "source": []
  },
  {
   "cell_type": "code",
   "execution_count": null,
   "id": "407101ad",
   "metadata": {},
   "outputs": [],
   "source": []
  },
  {
   "cell_type": "markdown",
   "id": "36a3da4c",
   "metadata": {},
   "source": [
    "## 1. perform initial anlysis"
   ]
  },
  {
   "cell_type": "code",
   "execution_count": 5,
   "id": "f4180812",
   "metadata": {},
   "outputs": [
    {
     "data": {
      "text/html": [
       "<div>\n",
       "<style scoped>\n",
       "    .dataframe tbody tr th:only-of-type {\n",
       "        vertical-align: middle;\n",
       "    }\n",
       "\n",
       "    .dataframe tbody tr th {\n",
       "        vertical-align: top;\n",
       "    }\n",
       "\n",
       "    .dataframe thead th {\n",
       "        text-align: right;\n",
       "    }\n",
       "</style>\n",
       "<table border=\"1\" class=\"dataframe\">\n",
       "  <thead>\n",
       "    <tr style=\"text-align: right;\">\n",
       "      <th>smoker</th>\n",
       "      <th>Yes</th>\n",
       "      <th>No</th>\n",
       "    </tr>\n",
       "    <tr>\n",
       "      <th>sex</th>\n",
       "      <th></th>\n",
       "      <th></th>\n",
       "    </tr>\n",
       "  </thead>\n",
       "  <tbody>\n",
       "    <tr>\n",
       "      <th>Male</th>\n",
       "      <td>60</td>\n",
       "      <td>97</td>\n",
       "    </tr>\n",
       "    <tr>\n",
       "      <th>Female</th>\n",
       "      <td>33</td>\n",
       "      <td>54</td>\n",
       "    </tr>\n",
       "  </tbody>\n",
       "</table>\n",
       "</div>"
      ],
      "text/plain": [
       "smoker  Yes  No\n",
       "sex            \n",
       "Male     60  97\n",
       "Female   33  54"
      ]
     },
     "execution_count": 5,
     "metadata": {},
     "output_type": "execute_result"
    }
   ],
   "source": [
    "sex_smoker_data = pd.crosstab(index= tips_data.sex, columns= tips_data.smoker)# margins=True)\n",
    "sex_smoker_data"
   ]
  },
  {
   "cell_type": "code",
   "execution_count": 6,
   "id": "7f49c861",
   "metadata": {},
   "outputs": [
    {
     "data": {
      "text/plain": [
       "(0.008763290531773594,\n",
       " 0.925417020494423,\n",
       " 1,\n",
       " array([[59.84016393, 97.15983607],\n",
       "        [33.15983607, 53.84016393]]))"
      ]
     },
     "execution_count": 6,
     "metadata": {},
     "output_type": "execute_result"
    }
   ],
   "source": [
    "stats.chi2_contingency(sex_smoker_data)"
   ]
  },
  {
   "cell_type": "code",
   "execution_count": 7,
   "id": "287516be",
   "metadata": {},
   "outputs": [],
   "source": [
    "chi_squared_tscore,pval,df,exp_table = stats.chi2_contingency(sex_smoker_data)"
   ]
  },
  {
   "cell_type": "code",
   "execution_count": 8,
   "id": "8401eca3",
   "metadata": {},
   "outputs": [
    {
     "name": "stdout",
     "output_type": "stream",
     "text": [
      "Chi-square score is 0.008763290531773594.\n",
      "p value is 0.925417020494423.\n",
      "df is 1.\n",
      "Expected table is \n",
      "[[59.84016393 97.15983607]\n",
      " [33.15983607 53.84016393]]\n"
     ]
    }
   ],
   "source": [
    "chi_square_tscore,pval,df,exp_table = stats.chi2_contingency(sex_smoker_data)\n",
    "print('Chi-square score is {}.\\np value is {}.\\ndf is {}.\\nExpected table is \\n{}'.format(chi_square_tscore,pval,df,exp_table))\n"
   ]
  },
  {
   "cell_type": "code",
   "execution_count": 9,
   "id": "5e071f4b",
   "metadata": {},
   "outputs": [
    {
     "name": "stdout",
     "output_type": "stream",
     "text": [
      "We do not reject the null hypothesis saying that there is no significant relationship between smoker and sex.\n"
     ]
    }
   ],
   "source": [
    "if pval<0.05:\n",
    "    print(\"We reject the null hypothesis saying that there is a significant relationship between smoker and sex.\")\n",
    "else:\n",
    "    print(\"We do not reject the null hypothesis saying that there is no significant relationship between smoker and sex.\")"
   ]
  },
  {
   "cell_type": "code",
   "execution_count": null,
   "id": "6e1a30f6",
   "metadata": {},
   "outputs": [],
   "source": []
  },
  {
   "cell_type": "markdown",
   "id": "9ed41964",
   "metadata": {},
   "source": [
    "## 2. T - test\n",
    "* 1 sample t test\n",
    "* 2 sample t test\n",
    "* Paired test\n",
    "* 3 sample test - ANOVA"
   ]
  },
  {
   "cell_type": "markdown",
   "id": "d4c35c9c",
   "metadata": {},
   "source": [
    "### 1 Sample t test"
   ]
  },
  {
   "cell_type": "code",
   "execution_count": 10,
   "id": "b8d136bd",
   "metadata": {},
   "outputs": [
    {
     "data": {
      "text/plain": [
       "25"
      ]
     },
     "execution_count": 10,
     "metadata": {},
     "output_type": "execute_result"
    }
   ],
   "source": [
    "ages = [21,23,26,24,25,28,29,27,22,32,37,31,35,36,37,34,22,21,25,23,24,26,35,39,38]\n",
    "len(ages)"
   ]
  },
  {
   "cell_type": "code",
   "execution_count": 11,
   "id": "889c2d97",
   "metadata": {},
   "outputs": [
    {
     "data": {
      "text/plain": [
       "29"
      ]
     },
     "execution_count": 11,
     "metadata": {},
     "output_type": "execute_result"
    }
   ],
   "source": [
    "round(np.mean(ages)) # Average age of the entire population     ## np is numpy"
   ]
  },
  {
   "cell_type": "code",
   "execution_count": 12,
   "id": "8499302d",
   "metadata": {},
   "outputs": [
    {
     "data": {
      "text/plain": [
       "array([34, 22, 23, 29, 26])"
      ]
     },
     "execution_count": 12,
     "metadata": {},
     "output_type": "execute_result"
    }
   ],
   "source": [
    "random_selection = np.random.choice(ages,size=5)\n",
    "random_selection"
   ]
  },
  {
   "cell_type": "code",
   "execution_count": 13,
   "id": "8051f029",
   "metadata": {},
   "outputs": [],
   "source": [
    "from scipy.stats import ttest_1samp # To perform one sample t test\n",
    "## ttest_1samp  = Calculate the T-test for the mean of ONE group of scores.\n",
    "# This is a two-sided test for the null hypothesis that the expected value (mean) of a sample of\n",
    "# independent observations a is equal to the given population mean, popmean."
   ]
  },
  {
   "cell_type": "code",
   "execution_count": 14,
   "id": "ddb2fab4",
   "metadata": {},
   "outputs": [
    {
     "name": "stdout",
     "output_type": "stream",
     "text": [
      "-0.5511782546095501 \n",
      " 0.6108504002950289\n"
     ]
    }
   ],
   "source": [
    "t_value, pval = ttest_1samp(random_selection,28)\n",
    "print(t_value,'\\n',pval)"
   ]
  },
  {
   "cell_type": "code",
   "execution_count": 15,
   "id": "829dc1d5",
   "metadata": {},
   "outputs": [
    {
     "name": "stdout",
     "output_type": "stream",
     "text": [
      "We do not reject the null hypothesis saying that there is no significant difference between average age of pop and sample\n"
     ]
    }
   ],
   "source": [
    "if pval<0.05:\n",
    "    print(\"We reject the null hypothesis saying that there is a significant difference between average age of pop and samp\")\n",
    "else:\n",
    "    print(\"We do not reject the null hypothesis saying that there is no significant difference between average age of pop and sample\")"
   ]
  },
  {
   "cell_type": "markdown",
   "id": "e92d4964",
   "metadata": {},
   "source": [
    "#### 2 Sample t test"
   ]
  },
  {
   "cell_type": "code",
   "execution_count": 16,
   "id": "7f31ade8",
   "metadata": {},
   "outputs": [],
   "source": [
    "from scipy.stats import ttest_ind  \n",
    "# ## Calculate the T-test for the means of two independent samples of scores.\n",
    "# ## This is a two-sided test for the null hypothesis that 2 independent samples\n",
    "#     have identical average (expected) values."
   ]
  },
  {
   "cell_type": "code",
   "execution_count": 17,
   "id": "1c84071d",
   "metadata": {},
   "outputs": [
    {
     "name": "stdout",
     "output_type": "stream",
     "text": [
      "-4.6876269213586275 \n",
      " 0.0001833553106654498\n",
      "there is difference in weight of classroom_1 and classroom_2 hence rejecting null hypothesis\n"
     ]
    }
   ],
   "source": [
    "from scipy.stats import ttest_ind\n",
    "#HO: no significant change in Weight of student from classroom_1 and classroom_2\n",
    "#Ha: there is significant change in Weight of student from classroom_1 and classroom_2\n",
    "\n",
    "classroom_1=[45,55,56,48,59,50,49,56,48,58]\n",
    "classroom_2=[65,62,61,67,55,59,80,78,69,66]\n",
    "\n",
    "t_value,p_val = ttest_ind(classroom_1,classroom_2)\n",
    "print(t_value,'\\n',p_val)\n",
    "\n",
    "if pval<0.05:\n",
    "    print(\"no difference in weight of classroom_1 and classroom_2 hence do not reject null hypothesis\")\n",
    "else:\n",
    "    print(\"there is difference in weight of classroom_1 and classroom_2 hence rejecting null hypothesis\")\n"
   ]
  },
  {
   "cell_type": "code",
   "execution_count": null,
   "id": "20c6f5e1",
   "metadata": {},
   "outputs": [],
   "source": []
  },
  {
   "cell_type": "markdown",
   "id": "51e92e95",
   "metadata": {},
   "source": [
    "#### Paired t test\n",
    "To check before and after data  of sample paired test is used"
   ]
  },
  {
   "cell_type": "code",
   "execution_count": 20,
   "id": "36444e76",
   "metadata": {},
   "outputs": [],
   "source": [
    "from scipy.stats import ttest_rel"
   ]
  },
  {
   "cell_type": "code",
   "execution_count": 22,
   "id": "6b43de6c",
   "metadata": {},
   "outputs": [
    {
     "name": "stdout",
     "output_type": "stream",
     "text": [
      "Statistics is 5.07655590683381 \n",
      " pvalue is 0.0002722070875643695\n",
      "We reject null hypothesis saying that there is a significant relationship between average weight before and after \n"
     ]
    }
   ],
   "source": [
    "\n",
    "weight_preworkout = [89,85,35,95,79,82,99,88,101,72,84,86,92]\n",
    "weight_postworkout = [55,62,65,56,42,46,68,52,70,60,55,51,69]\n",
    "statistics,pval = ttest_rel(weight_preworkout,weight_postworkout)\n",
    "print(\"Statistics is {} \\n pvalue is {}\".format(statistics,pval))\n",
    "if pval < 0.05:\n",
    "    print(\"We reject null hypothesis saying that there is a significant relationship between average weight before and after \")\n",
    "else:\n",
    "    print(\"We do not reject null hypothesis saying that there is no significant relationship between average weight before and after\")\n",
    "\n",
    "# INFERENCE: There is chnage in weight of people \n",
    "#NH: No change\n",
    "#AH: There is change in weight"
   ]
  },
  {
   "cell_type": "markdown",
   "id": "bfdc1ff6",
   "metadata": {},
   "source": [
    "## ANOVA - more than 2 sample t test"
   ]
  },
  {
   "cell_type": "code",
   "execution_count": 23,
   "id": "f5794968",
   "metadata": {},
   "outputs": [],
   "source": [
    "from scipy.stats import f_oneway"
   ]
  },
  {
   "cell_type": "code",
   "execution_count": 25,
   "id": "fc0e17ad",
   "metadata": {},
   "outputs": [
    {
     "name": "stdout",
     "output_type": "stream",
     "text": [
      "statistics is 0.07590657652120467\n",
      " pvalue is 0.9270641538661927\n",
      "Tamilnadu recieves uniform amount of rainfall\n"
     ]
    }
   ],
   "source": [
    "#H0\n",
    "#Ha\n",
    "\n",
    "#Data Collection\n",
    "rainfall_2018=[32,41,20,21,22,27,26,37,40,41,42,40]\n",
    "rainfall_2019=[40,30,20,22,32,37,24,29,30,32,41,41]\n",
    "rainfall_2020=[30,20,45,44,47,21,20,19,20,21,42,42]\n",
    "statistic,pvalue=f_oneway(rainfall_2018,rainfall_2019,rainfall_2020)\n",
    "print('statistics is {}\\n pvalue is {}'.format(statistic,pvalue))\n",
    "if pvalue<0.05:\n",
    "    print('Tamilnadu recieves different amouth of rainfall') #Ha\n",
    "else:\n",
    "    print('Tamilnadu recieves uniform amount of rainfall') #Ho\n",
    "    \n",
    "# 12 month rainfall data is collected for 3 years\n",
    "# Here null hypothesis is accepted \n",
    "# inference tamilnadu recieves unifrom amount of rainfall\n"
   ]
  },
  {
   "cell_type": "code",
   "execution_count": 26,
   "id": "789f1425",
   "metadata": {},
   "outputs": [
    {
     "name": "stdout",
     "output_type": "stream",
     "text": [
      "The f-stat is 0.8624460167233299 and pval is 0.4467184149873274\n",
      "We do not reject the null hypothesis saying that there is no significant difference in scores b/w the Students from School A,B and C\n"
     ]
    }
   ],
   "source": [
    "school_a=[100,98,95,90,89]\n",
    "school_b=[99,98,96,35,75]\n",
    "school_c=[70,55,98,92,89]\n",
    "f_stat,pval=f_oneway(school_a,school_b,school_c)\n",
    "print(\"The f-stat is {} and pval is {}\".format(f_stat,pval))\n",
    "\n",
    "if pval<0.05:\n",
    "    print(\"We reject the null hypothesis saying there is a significant difference in scores b/w the Students from School A,B and C\")\n",
    "else:\n",
    "    print(\"We do not reject the null hypothesis saying that there is no significant difference in scores b/w the Students from School A,B and C\")\n"
   ]
  },
  {
   "cell_type": "code",
   "execution_count": 27,
   "id": "73f52fef",
   "metadata": {},
   "outputs": [
    {
     "name": "stdout",
     "output_type": "stream",
     "text": [
      "Statistics 1.4411764705882355\n",
      " Pvalue 0.2864377648612401\n",
      "Runners don't have significance of weight \n"
     ]
    }
   ],
   "source": [
    "hun_mt=[50,40,60,50]\n",
    "two_hun_mt=[60,50,60,55]\n",
    "marathon=[40,50,60,35]\n",
    "statistic,pvalue=f_oneway(hun_mt,two_hun_mt,marathon)\n",
    "print(\"Statistics {}\\n Pvalue {}\".format(statistic,pvalue))\n",
    "if (pvalue<0.05):\n",
    "    print(\"Runners have significance of weight \")\n",
    "else:\n",
    "    print(\"Runners don't have significance of weight \")\n"
   ]
  },
  {
   "cell_type": "code",
   "execution_count": 11,
   "id": "9798683c",
   "metadata": {},
   "outputs": [],
   "source": []
  },
  {
   "cell_type": "markdown",
   "id": "2504df47",
   "metadata": {},
   "source": [
    "### Proportional test in z test"
   ]
  },
  {
   "cell_type": "code",
   "execution_count": 12,
   "id": "637486f1",
   "metadata": {},
   "outputs": [
    {
     "name": "stdout",
     "output_type": "stream",
     "text": [
      "z_stat: 1.164, p_value: 0.122\n",
      "Fail to reject the null hypothesis - we have nothing else to say\n"
     ]
    }
   ],
   "source": [
    "from statsmodels.stats.proportion import proportions_ztest\n",
    "# can we assume anything from our sample\n",
    "significance = 0.05\n",
    "# our sample - 82% are good\n",
    "sample_success = 410\n",
    "sample_size = 500\n",
    "# our Ho is  80%\n",
    "null_hypothesis = 0.80\n",
    "# check our sample against Ho for Ha > Ho\n",
    "# for Ha < Ho use alternative='smaller'\n",
    "# for Ha != Ho use alternative='two-sided'\n",
    "stat, p_value = proportions_ztest(count=sample_success, nobs=sample_size, value=null_hypothesis, alternative='larger')\n",
    "# report\n",
    "print('z_stat: %0.3f, p_value: %0.3f' % (stat, p_value))\n",
    "if p_value > significance:\n",
    "   print (\"Fail to reject the null hypothesis - we have nothing else to say\")\n",
    "else:\n",
    "   print (\"Reject the null hypothesis - suggest the alternative hypothesis is true\")\n"
   ]
  },
  {
   "cell_type": "code",
   "execution_count": null,
   "id": "72500e1e",
   "metadata": {},
   "outputs": [],
   "source": []
  }
 ],
 "metadata": {
  "kernelspec": {
   "display_name": "Python 3",
   "language": "python",
   "name": "python3"
  },
  "language_info": {
   "codemirror_mode": {
    "name": "ipython",
    "version": 3
   },
   "file_extension": ".py",
   "mimetype": "text/x-python",
   "name": "python",
   "nbconvert_exporter": "python",
   "pygments_lexer": "ipython3",
   "version": "3.8.8"
  }
 },
 "nbformat": 4,
 "nbformat_minor": 5
}
