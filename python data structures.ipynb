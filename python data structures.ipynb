{
 "cells": [
  {
   "cell_type": "markdown",
   "id": "bc455987",
   "metadata": {},
   "source": [
    "# Pyhton Data structures\n",
    "There are 4 pthon data structures\n",
    "* list\n",
    "* sets\n",
    "* tupels\n",
    "* dictionary"
   ]
  },
  {
   "cell_type": "markdown",
   "id": "28bbdae1",
   "metadata": {},
   "source": [
    "## 1. List"
   ]
  },
  {
   "cell_type": "code",
   "execution_count": null,
   "id": "8afb292a",
   "metadata": {},
   "outputs": [],
   "source": [
    "* Heterogenuos Datastructure\n",
    "* 1 dimensional \n",
    "* Allows Duplicate values\n",
    "* Mutable - The entries are changeable at anytime\n",
    "* slicable because list is indexable"
   ]
  },
  {
   "cell_type": "code",
   "execution_count": 4,
   "id": "95f46df8",
   "metadata": {},
   "outputs": [],
   "source": [
    "scores = [] #empty list"
   ]
  },
  {
   "cell_type": "code",
   "execution_count": 9,
   "id": "9b58c2c4",
   "metadata": {},
   "outputs": [
    {
     "data": {
      "text/plain": [
       "[]"
      ]
     },
     "execution_count": 9,
     "metadata": {},
     "output_type": "execute_result"
    }
   ],
   "source": [
    "scores "
   ]
  },
  {
   "cell_type": "code",
   "execution_count": 8,
   "id": "8e8532cf",
   "metadata": {},
   "outputs": [
    {
     "data": {
      "text/plain": [
       "list"
      ]
     },
     "execution_count": 8,
     "metadata": {},
     "output_type": "execute_result"
    }
   ],
   "source": [
    "type(scores)"
   ]
  },
  {
   "cell_type": "code",
   "execution_count": 11,
   "id": "300f3575",
   "metadata": {},
   "outputs": [
    {
     "data": {
      "text/plain": [
       "[780, 45, 98, 214]"
      ]
     },
     "execution_count": 11,
     "metadata": {},
     "output_type": "execute_result"
    }
   ],
   "source": [
    "scores = [780,45,98,214] #Homogenous values ie ony numerical values\n",
    "scores"
   ]
  },
  {
   "cell_type": "code",
   "execution_count": 13,
   "id": "bfe50593",
   "metadata": {},
   "outputs": [
    {
     "data": {
      "text/plain": [
       "['alex', 548, 'harry', 78.54]"
      ]
     },
     "execution_count": 13,
     "metadata": {},
     "output_type": "execute_result"
    }
   ],
   "source": [
    "names = [\"alex\",548,\"harry\",78.54] #Heterogenous means it can take float int string\n",
    "names"
   ]
  },
  {
   "cell_type": "code",
   "execution_count": 15,
   "id": "b16759c1",
   "metadata": {},
   "outputs": [
    {
     "data": {
      "text/plain": [
       "['alex', 548, 'harry', 78.54, 'alex', 'harry', 78.54]"
      ]
     },
     "execution_count": 15,
     "metadata": {},
     "output_type": "execute_result"
    }
   ],
   "source": [
    "names = [\"alex\",548,\"harry\",78.54,\"alex\",\"harry\",78.54] #Allows duplicate values\n",
    "names"
   ]
  },
  {
   "cell_type": "code",
   "execution_count": 18,
   "id": "c5ae6483",
   "metadata": {},
   "outputs": [],
   "source": [
    "names[0] =\"Robby\"  #mutable can change values any time"
   ]
  },
  {
   "cell_type": "code",
   "execution_count": 19,
   "id": "3271f9a4",
   "metadata": {},
   "outputs": [
    {
     "data": {
      "text/plain": [
       "['Robby', 548, 'harry', 78.54, 'alex', 'harry', 78.54]"
      ]
     },
     "execution_count": 19,
     "metadata": {},
     "output_type": "execute_result"
    }
   ],
   "source": [
    "names"
   ]
  },
  {
   "cell_type": "code",
   "execution_count": 20,
   "id": "2d06d972",
   "metadata": {},
   "outputs": [
    {
     "data": {
      "text/plain": [
       "['harry', 78.54, 'alex', 'harry', 78.54]"
      ]
     },
     "execution_count": 20,
     "metadata": {},
     "output_type": "execute_result"
    }
   ],
   "source": [
    "names[2:]    #indexable"
   ]
  },
  {
   "cell_type": "code",
   "execution_count": 21,
   "id": "59981a56",
   "metadata": {},
   "outputs": [
    {
     "data": {
      "text/plain": [
       "['Robby', 548, 'harry', 78.54, 'alex']"
      ]
     },
     "execution_count": 21,
     "metadata": {},
     "output_type": "execute_result"
    }
   ],
   "source": [
    "#names[0:5] #positive indexing\n",
    "names[:-2]  #negative indexing"
   ]
  },
  {
   "cell_type": "code",
   "execution_count": 23,
   "id": "64971d83",
   "metadata": {},
   "outputs": [
    {
     "data": {
      "text/plain": [
       "['harry', 78.54, 'alex', 'harry', 78.54]"
      ]
     },
     "execution_count": 23,
     "metadata": {},
     "output_type": "execute_result"
    }
   ],
   "source": [
    "names[-5:]"
   ]
  },
  {
   "cell_type": "code",
   "execution_count": 26,
   "id": "1f94fc7a",
   "metadata": {},
   "outputs": [],
   "source": [
    "names.append(\"sandra\")  # we can add values at anytime"
   ]
  },
  {
   "cell_type": "code",
   "execution_count": 27,
   "id": "9fab87a5",
   "metadata": {},
   "outputs": [
    {
     "data": {
      "text/plain": [
       "['Robby', 548, 'harry', 78.54, 'alex', 'harry', 78.54, 'sandra', 'sandra']"
      ]
     },
     "execution_count": 27,
     "metadata": {},
     "output_type": "execute_result"
    }
   ],
   "source": [
    "names"
   ]
  },
  {
   "cell_type": "markdown",
   "id": "b1cd57e7",
   "metadata": {},
   "source": [
    "# 2. Sets"
   ]
  },
  {
   "cell_type": "markdown",
   "id": "373abaed",
   "metadata": {},
   "source": [
    "* 1 Dimensional datastructures\n",
    "* Heterogeneous\n",
    "* Duplicate values Not Allowed\n",
    "* Not slicable because not indexable\n",
    "* Mutable - because values can be changed anytime"
   ]
  },
  {
   "cell_type": "code",
   "execution_count": 3,
   "id": "f2a5aa72",
   "metadata": {},
   "outputs": [
    {
     "data": {
      "text/plain": [
       "set"
      ]
     },
     "execution_count": 3,
     "metadata": {},
     "output_type": "execute_result"
    }
   ],
   "source": [
    "empty_set= set() #empty set syntax\n",
    "type(empty_set)"
   ]
  },
  {
   "cell_type": "code",
   "execution_count": 4,
   "id": "48ec03ba",
   "metadata": {},
   "outputs": [],
   "source": [
    "temp={45,85,78,59}"
   ]
  },
  {
   "cell_type": "code",
   "execution_count": 5,
   "id": "9ad09683",
   "metadata": {},
   "outputs": [
    {
     "data": {
      "text/plain": [
       "{45, 59, 78, 85}"
      ]
     },
     "execution_count": 5,
     "metadata": {},
     "output_type": "execute_result"
    }
   ],
   "source": [
    "temp"
   ]
  },
  {
   "cell_type": "code",
   "execution_count": 6,
   "id": "5f016e64",
   "metadata": {},
   "outputs": [
    {
     "data": {
      "text/plain": [
       "set"
      ]
     },
     "execution_count": 6,
     "metadata": {},
     "output_type": "execute_result"
    }
   ],
   "source": [
    "type(temp)"
   ]
  },
  {
   "cell_type": "code",
   "execution_count": 7,
   "id": "20b28772",
   "metadata": {},
   "outputs": [],
   "source": [
    "temp={45,85,78,59,\"Swapnil\",45,85,78} # Heterogenous\n",
    "# Duplicate values not allowed"
   ]
  },
  {
   "cell_type": "code",
   "execution_count": 8,
   "id": "1fd43e51",
   "metadata": {},
   "outputs": [
    {
     "data": {
      "text/plain": [
       "{45, 59, 78, 85, 'Swapnil'}"
      ]
     },
     "execution_count": 8,
     "metadata": {},
     "output_type": "execute_result"
    }
   ],
   "source": [
    "temp"
   ]
  },
  {
   "cell_type": "code",
   "execution_count": 9,
   "id": "cc81550b",
   "metadata": {},
   "outputs": [
    {
     "ename": "TypeError",
     "evalue": "'set' object is not subscriptable",
     "output_type": "error",
     "traceback": [
      "\u001b[1;31m---------------------------------------------------------------------------\u001b[0m",
      "\u001b[1;31mTypeError\u001b[0m                                 Traceback (most recent call last)",
      "\u001b[1;32m<ipython-input-9-2846fe74461c>\u001b[0m in \u001b[0;36m<module>\u001b[1;34m\u001b[0m\n\u001b[1;32m----> 1\u001b[1;33m \u001b[0mtemp\u001b[0m\u001b[1;33m[\u001b[0m\u001b[1;36m0\u001b[0m\u001b[1;33m]\u001b[0m \u001b[1;31m#not indexable\u001b[0m\u001b[1;33m\u001b[0m\u001b[1;33m\u001b[0m\u001b[0m\n\u001b[0m\u001b[0;32m      2\u001b[0m \u001b[0mtemp\u001b[0m\u001b[1;33m[\u001b[0m\u001b[1;36m0\u001b[0m\u001b[1;33m:\u001b[0m\u001b[1;36m2\u001b[0m\u001b[1;33m]\u001b[0m \u001b[1;31m# not slicable\u001b[0m\u001b[1;33m\u001b[0m\u001b[1;33m\u001b[0m\u001b[0m\n",
      "\u001b[1;31mTypeError\u001b[0m: 'set' object is not subscriptable"
     ]
    }
   ],
   "source": [
    "temp[0] #not indexable  \n",
    "temp[0:2] # not slicable"
   ]
  },
  {
   "cell_type": "code",
   "execution_count": 10,
   "id": "67db54a6",
   "metadata": {},
   "outputs": [],
   "source": [
    "temp.add(5)"
   ]
  },
  {
   "cell_type": "code",
   "execution_count": 11,
   "id": "059ee196",
   "metadata": {},
   "outputs": [
    {
     "data": {
      "text/plain": [
       "{45, 5, 59, 78, 85, 'Swapnil'}"
      ]
     },
     "execution_count": 11,
     "metadata": {},
     "output_type": "execute_result"
    }
   ],
   "source": [
    "temp"
   ]
  },
  {
   "cell_type": "markdown",
   "id": "3d6dfa08",
   "metadata": {},
   "source": [
    "# 3. Tuple"
   ]
  },
  {
   "cell_type": "markdown",
   "id": "aeb2bee4",
   "metadata": {},
   "source": [
    "* 1 Dimentional datastructure\n",
    "* Heterogenous\n",
    "* Allows duplicate values\n",
    "* Slicable as it is indexable\n",
    "* Not mutable - values once got assigned to a tuple variable, it cannot be changed in future. We have to create a new tuple variable."
   ]
  },
  {
   "cell_type": "code",
   "execution_count": 43,
   "id": "b4e04139",
   "metadata": {},
   "outputs": [
    {
     "data": {
      "text/plain": [
       "tuple"
      ]
     },
     "execution_count": 43,
     "metadata": {},
     "output_type": "execute_result"
    }
   ],
   "source": [
    "empty_tuple = ()\n",
    "type(empty_tuple)"
   ]
  },
  {
   "cell_type": "code",
   "execution_count": 12,
   "id": "d5e59bf6",
   "metadata": {},
   "outputs": [
    {
     "data": {
      "text/plain": [
       "(78, 85, 964, 2.5, 36.4, 'alex', 78, 85, 964, 2.5, 36.4, 'harry')"
      ]
     },
     "execution_count": 12,
     "metadata": {},
     "output_type": "execute_result"
    }
   ],
   "source": [
    "time = (78,85,964,2.5,36.4,\"alex\",78,85,964,2.5,36.4,\"harry\") # Heterogenous \n",
    "                                                                # Allows duplicate values\n",
    "time"
   ]
  },
  {
   "cell_type": "code",
   "execution_count": 13,
   "id": "6e98d07d",
   "metadata": {},
   "outputs": [
    {
     "data": {
      "text/plain": [
       "36.4"
      ]
     },
     "execution_count": 13,
     "metadata": {},
     "output_type": "execute_result"
    }
   ],
   "source": [
    "time[4]    # indexable"
   ]
  },
  {
   "cell_type": "code",
   "execution_count": 14,
   "id": "d7877a0d",
   "metadata": {},
   "outputs": [
    {
     "data": {
      "text/plain": [
       "(36.4, 'alex', 78, 85, 964)"
      ]
     },
     "execution_count": 14,
     "metadata": {},
     "output_type": "execute_result"
    }
   ],
   "source": [
    "time[4:9]  #slicable"
   ]
  },
  {
   "cell_type": "code",
   "execution_count": 15,
   "id": "a984c1c4",
   "metadata": {},
   "outputs": [
    {
     "ename": "TypeError",
     "evalue": "'tuple' object does not support item assignment",
     "output_type": "error",
     "traceback": [
      "\u001b[1;31m---------------------------------------------------------------------------\u001b[0m",
      "\u001b[1;31mTypeError\u001b[0m                                 Traceback (most recent call last)",
      "\u001b[1;32m<ipython-input-15-55640a2d9776>\u001b[0m in \u001b[0;36m<module>\u001b[1;34m\u001b[0m\n\u001b[1;32m----> 1\u001b[1;33m \u001b[0mtime\u001b[0m\u001b[1;33m[\u001b[0m\u001b[1;36m4\u001b[0m\u001b[1;33m]\u001b[0m\u001b[1;33m=\u001b[0m \u001b[1;33m(\u001b[0m\u001b[1;36m2.5\u001b[0m\u001b[1;33m)\u001b[0m   \u001b[1;31m# Not mutable\u001b[0m\u001b[1;33m\u001b[0m\u001b[1;33m\u001b[0m\u001b[0m\n\u001b[0m",
      "\u001b[1;31mTypeError\u001b[0m: 'tuple' object does not support item assignment"
     ]
    }
   ],
   "source": [
    "time[4]= (2.5)   # Not mutable"
   ]
  },
  {
   "cell_type": "markdown",
   "id": "0bf7f526",
   "metadata": {},
   "source": [
    "# 4. Dictionary(dict) - Key:Value pair"
   ]
  },
  {
   "cell_type": "markdown",
   "id": "78c834c1",
   "metadata": {},
   "source": [
    "* 2 Dimentional Datastructure\n",
    "* Heterogenous\n",
    "* It can duplicate values but not recommended to have duplicate keys (duplicate keys not allowed)\n",
    "* Not slicable, because not indexable"
   ]
  },
  {
   "cell_type": "code",
   "execution_count": 52,
   "id": "b09c2a40",
   "metadata": {},
   "outputs": [
    {
     "data": {
      "text/plain": [
       "dict"
      ]
     },
     "execution_count": 52,
     "metadata": {},
     "output_type": "execute_result"
    }
   ],
   "source": [
    "empty_dict = {}\n",
    "type(empty_dict)"
   ]
  },
  {
   "cell_type": "code",
   "execution_count": 57,
   "id": "6b47e4e7",
   "metadata": {},
   "outputs": [
    {
     "data": {
      "text/plain": [
       "{'Tomato': 5, 'Oats': 3, 'Almonds': 0.5, 'Black Raisins': 0.5}"
      ]
     },
     "execution_count": 57,
     "metadata": {},
     "output_type": "execute_result"
    }
   ],
   "source": [
    "shopping_cart = {\"Tomato\":5,\n",
    "                 \"Oats\": 1,\n",
    "                 \"Almonds\": 0.5,\n",
    "                 \"Black Raisins\":0.5,\n",
    "                 \"Oats\":3}       # Duplicate keys not allowed\n",
    "shopping_cart"
   ]
  },
  {
   "cell_type": "code",
   "execution_count": 60,
   "id": "5cd2c084",
   "metadata": {},
   "outputs": [
    {
     "data": {
      "text/plain": [
       "dict_keys(['Tomato', 'Oats', 'Almonds', 'Black Raisins'])"
      ]
     },
     "execution_count": 60,
     "metadata": {},
     "output_type": "execute_result"
    }
   ],
   "source": [
    "shopping_cart.keys()"
   ]
  },
  {
   "cell_type": "code",
   "execution_count": 61,
   "id": "736439e6",
   "metadata": {},
   "outputs": [
    {
     "data": {
      "text/plain": [
       "dict_values([5, 3, 0.5, 0.5])"
      ]
     },
     "execution_count": 61,
     "metadata": {},
     "output_type": "execute_result"
    }
   ],
   "source": [
    "shopping_cart.values()"
   ]
  },
  {
   "cell_type": "code",
   "execution_count": 11,
   "id": "aba0c501",
   "metadata": {},
   "outputs": [],
   "source": [
    "team_sequence = {\"Names\":['Dhoni','virat','sachin'],\n",
    "               \"Age\":[45,30,50],\n",
    "               \"Position\":['W-keeper','Batting','Batting']}"
   ]
  },
  {
   "cell_type": "code",
   "execution_count": 15,
   "id": "63fc9681",
   "metadata": {},
   "outputs": [
    {
     "data": {
      "text/plain": [
       "{'Names': ['Dhoni', 'virat', 'sachin'],\n",
       " 'Age': [45, 30, 50],\n",
       " 'Position': ['W-keeper', 'Batting', 'Batting']}"
      ]
     },
     "execution_count": 15,
     "metadata": {},
     "output_type": "execute_result"
    }
   ],
   "source": [
    "team_sequence"
   ]
  },
  {
   "cell_type": "code",
   "execution_count": 16,
   "id": "99d3f750",
   "metadata": {},
   "outputs": [
    {
     "data": {
      "text/html": [
       "<div>\n",
       "<style scoped>\n",
       "    .dataframe tbody tr th:only-of-type {\n",
       "        vertical-align: middle;\n",
       "    }\n",
       "\n",
       "    .dataframe tbody tr th {\n",
       "        vertical-align: top;\n",
       "    }\n",
       "\n",
       "    .dataframe thead th {\n",
       "        text-align: right;\n",
       "    }\n",
       "</style>\n",
       "<table border=\"1\" class=\"dataframe\">\n",
       "  <thead>\n",
       "    <tr style=\"text-align: right;\">\n",
       "      <th></th>\n",
       "      <th>Names</th>\n",
       "      <th>Age</th>\n",
       "      <th>Position</th>\n",
       "    </tr>\n",
       "  </thead>\n",
       "  <tbody>\n",
       "    <tr>\n",
       "      <th>0</th>\n",
       "      <td>Dhoni</td>\n",
       "      <td>45</td>\n",
       "      <td>W-keeper</td>\n",
       "    </tr>\n",
       "    <tr>\n",
       "      <th>1</th>\n",
       "      <td>virat</td>\n",
       "      <td>30</td>\n",
       "      <td>Batting</td>\n",
       "    </tr>\n",
       "    <tr>\n",
       "      <th>2</th>\n",
       "      <td>sachin</td>\n",
       "      <td>50</td>\n",
       "      <td>Batting</td>\n",
       "    </tr>\n",
       "  </tbody>\n",
       "</table>\n",
       "</div>"
      ],
      "text/plain": [
       "    Names  Age  Position\n",
       "0   Dhoni   45  W-keeper\n",
       "1   virat   30   Batting\n",
       "2  sachin   50   Batting"
      ]
     },
     "execution_count": 16,
     "metadata": {},
     "output_type": "execute_result"
    }
   ],
   "source": [
    "# Two dimensional datastructure\n",
    "import pandas as pd\n",
    "pd.DataFrame(team_sequence)"
   ]
  },
  {
   "cell_type": "code",
   "execution_count": null,
   "id": "f4db7edf",
   "metadata": {},
   "outputs": [],
   "source": []
  }
 ],
 "metadata": {
  "kernelspec": {
   "display_name": "Python 3",
   "language": "python",
   "name": "python3"
  },
  "language_info": {
   "codemirror_mode": {
    "name": "ipython",
    "version": 3
   },
   "file_extension": ".py",
   "mimetype": "text/x-python",
   "name": "python",
   "nbconvert_exporter": "python",
   "pygments_lexer": "ipython3",
   "version": "3.8.8"
  }
 },
 "nbformat": 4,
 "nbformat_minor": 5
}
